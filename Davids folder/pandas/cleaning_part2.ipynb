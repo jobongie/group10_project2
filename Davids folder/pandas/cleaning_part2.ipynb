{
 "cells": [
  {
   "cell_type": "code",
   "execution_count": 1,
   "metadata": {},
   "outputs": [],
   "source": [
    "import pandas as pd"
   ]
  },
  {
   "cell_type": "code",
   "execution_count": 2,
   "metadata": {},
   "outputs": [],
   "source": [
    "df = pd.read_csv('../../static/data/Consolidated State_NAISC Sector 2008-2017.csv')"
   ]
  },
  {
   "cell_type": "code",
   "execution_count": 3,
   "metadata": {},
   "outputs": [],
   "source": [
    "big = df.loc[(df['ENTERPRISE EMPLOYMENT SIZE'] == '9:   500+') & (df['NAICS DESCRIPTION'] == 'Total')]"
   ]
  },
  {
   "cell_type": "code",
   "execution_count": 4,
   "metadata": {},
   "outputs": [],
   "source": [
    "df2 = pd.read_csv('../../static/data/state_codes.csv')"
   ]
  },
  {
   "cell_type": "code",
   "execution_count": 5,
   "metadata": {},
   "outputs": [],
   "source": [
    "complete_df = pd.merge(big, df2, how='left', left_on='STATE DESCRIPTION', right_on='STATE DESCRIPTION')"
   ]
  },
  {
   "cell_type": "code",
   "execution_count": 6,
   "metadata": {},
   "outputs": [],
   "source": [
    "clean_df = complete_df.drop([' FIPS   STATE CODE', 'NAICS   CODE ','Source_Name','ENTERPRISE EMPLOYMENT SIZE 2',\n",
    "                  'ANNUAL PAYROLL NOISE FLAG','EMPLOYMENT NOISE FLAG','EMPLOYMENT RANGE FLAG','NUMBER OF ESTABLISHMENTS',\n",
    "                  'NUMBER OF FIRMS','Abbrev'], axis=1)"
   ]
  },
  {
   "cell_type": "code",
   "execution_count": 7,
   "metadata": {},
   "outputs": [],
   "source": [
    "# df1 = pd.read_csv('../../static/data/Consolidated State_NAISC Sector 2008-2017.csv')"
   ]
  },
  {
   "cell_type": "code",
   "execution_count": 8,
   "metadata": {},
   "outputs": [],
   "source": [
    "# df2 = pd.read_csv('../../static/data/state_codes.csv')"
   ]
  },
  {
   "cell_type": "code",
   "execution_count": 9,
   "metadata": {},
   "outputs": [],
   "source": [
    "# state_abrv = pd.merge(df1, df2, how='left', left_on='STATE DESCRIPTION', right_on='STATE DESCRIPTION')"
   ]
  },
  {
   "cell_type": "code",
   "execution_count": 10,
   "metadata": {},
   "outputs": [],
   "source": [
    "# df3 = pd.read_csv('../../static/data/2017_NAICS_Structure_Summary.csv')"
   ]
  },
  {
   "cell_type": "code",
   "execution_count": 11,
   "metadata": {},
   "outputs": [],
   "source": [
    "# add_index = pd.merge(state_abrv, df3, how='left', left_on='NAICS DESCRIPTION', right_on='NAME')"
   ]
  },
  {
   "cell_type": "code",
   "execution_count": 12,
   "metadata": {},
   "outputs": [],
   "source": [
    "# complete_bg = add_index.loc[(add_index['INDEX'] == 22) & (add_index['ENTERPRISE EMPLOYMENT SIZE'] == '9:   500+')]"
   ]
  },
  {
   "cell_type": "code",
   "execution_count": 13,
   "metadata": {},
   "outputs": [],
   "source": [
    "# clean_bg = complete_bg.drop([' FIPS   STATE CODE','Source_Name','ENTERPRISE EMPLOYMENT SIZE 2',\n",
    "#                   'ANNUAL PAYROLL NOISE FLAG','EMPLOYMENT NOISE FLAG','EMPLOYMENT RANGE FLAG','NUMBER OF ESTABLISHMENTS',\n",
    "#                   'NUMBER OF FIRMS','Abbrev','NAME','NAICS CODE'], axis=1)"
   ]
  },
  {
   "cell_type": "code",
   "execution_count": 15,
   "metadata": {},
   "outputs": [],
   "source": [
    "clean_df.to_csv(r'big_business_totals.csv', index = False)"
   ]
  },
  {
   "cell_type": "code",
   "execution_count": null,
   "metadata": {},
   "outputs": [],
   "source": []
  }
 ],
 "metadata": {
  "kernelspec": {
   "display_name": "Python 3",
   "language": "python",
   "name": "python3"
  },
  "language_info": {
   "codemirror_mode": {
    "name": "ipython",
    "version": 3
   },
   "file_extension": ".py",
   "mimetype": "text/x-python",
   "name": "python",
   "nbconvert_exporter": "python",
   "pygments_lexer": "ipython3",
   "version": "3.7.6"
  }
 },
 "nbformat": 4,
 "nbformat_minor": 4
}
