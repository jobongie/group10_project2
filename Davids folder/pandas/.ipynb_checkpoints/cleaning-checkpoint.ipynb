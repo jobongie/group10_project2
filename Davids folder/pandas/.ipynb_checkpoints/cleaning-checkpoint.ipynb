{
 "cells": [
  {
   "cell_type": "code",
   "execution_count": 1,
   "metadata": {},
   "outputs": [],
   "source": [
    "import pandas as pd"
   ]
  },
  {
   "cell_type": "code",
   "execution_count": 2,
   "metadata": {},
   "outputs": [],
   "source": [
    "df = pd.read_csv('../../static/data/Consolidated State_NAISC Sector 2008-2017.csv')"
   ]
  },
  {
   "cell_type": "code",
   "execution_count": 3,
   "metadata": {},
   "outputs": [],
   "source": [
    "small = df.loc[(df['ENTERPRISE EMPLOYMENT SIZE'] == '8:   <500') & (df['NAICS DESCRIPTION'] == 'Total')]\n",
    "# both = df.loc[(df['ENTERPRISE EMPLOYMENT SIZE'] == '8:   <500') | (df['ENTERPRISE EMPLOYMENT SIZE'] == '9:   500+')]"
   ]
  },
  {
   "cell_type": "code",
   "execution_count": 4,
   "metadata": {},
   "outputs": [],
   "source": [
    "# only_totals = both.loc[df['NAICS DESCRIPTION'] == 'Total']"
   ]
  },
  {
   "cell_type": "code",
   "execution_count": 5,
   "metadata": {},
   "outputs": [],
   "source": [
    "df2 = pd.read_csv('../../static/data/state_codes.csv')"
   ]
  },
  {
   "cell_type": "code",
   "execution_count": 6,
   "metadata": {},
   "outputs": [],
   "source": [
    "complete_df = pd.merge(small, df2, how='left', left_on='STATE DESCRIPTION', right_on='STATE DESCRIPTION')"
   ]
  },
  {
   "cell_type": "code",
   "execution_count": 7,
   "metadata": {},
   "outputs": [],
   "source": [
    "clean_df = complete_df.drop([' FIPS   STATE CODE', 'NAICS   CODE ','Source_Name','ENTERPRISE EMPLOYMENT SIZE 2',\n",
    "                  'ANNUAL PAYROLL NOISE FLAG','EMPLOYMENT NOISE FLAG','EMPLOYMENT RANGE FLAG','NUMBER OF ESTABLISHMENTS',\n",
    "                  'NUMBER OF FIRMS','Abbrev'], axis=1)"
   ]
  },
  {
   "cell_type": "code",
   "execution_count": 9,
   "metadata": {},
   "outputs": [],
   "source": [
    "clean_df.to_csv(r'small_business_totals.csv', index = False)"
   ]
  },
  {
   "cell_type": "code",
   "execution_count": null,
   "metadata": {},
   "outputs": [],
   "source": []
  }
 ],
 "metadata": {
  "kernelspec": {
   "display_name": "Python 3",
   "language": "python",
   "name": "python3"
  },
  "language_info": {
   "codemirror_mode": {
    "name": "ipython",
    "version": 3
   },
   "file_extension": ".py",
   "mimetype": "text/x-python",
   "name": "python",
   "nbconvert_exporter": "python",
   "pygments_lexer": "ipython3",
   "version": "3.7.6"
  }
 },
 "nbformat": 4,
 "nbformat_minor": 4
}
