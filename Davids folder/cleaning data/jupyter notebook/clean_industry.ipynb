{
 "cells": [
  {
   "cell_type": "code",
   "execution_count": 1,
   "metadata": {},
   "outputs": [],
   "source": [
    "import matplotlib.pyplot as plt\n",
    "import pandas as pd\n",
    "import scipy.stats as sts\n",
    "import numpy as np\n",
    "import os"
   ]
  },
  {
   "cell_type": "code",
   "execution_count": 2,
   "metadata": {},
   "outputs": [
    {
     "name": "stdout",
     "output_type": "stream",
     "text": [
      "        FIPS STATE CODE STATE DESCRIPTION NAICS CODE  \\\n",
      "0                     1           Alabama         11   \n",
      "1                     1           Alabama         11   \n",
      "2                     1           Alabama         11   \n",
      "3                     1           Alabama         11   \n",
      "4                     1           Alabama         11   \n",
      "...                 ...               ...        ...   \n",
      "108085               56           Wyoming      48-49   \n",
      "108086               56           Wyoming      48-49   \n",
      "108087               56           Wyoming      48-49   \n",
      "108088               56           Wyoming      48-49   \n",
      "108089               56           Wyoming      48-49   \n",
      "\n",
      "                                 NAICS DESCRIPTION ENTERPRISE EMPLOYMENT SIZE  \\\n",
      "0       Agriculture, forestry, fishing and hunting                 1:   Total   \n",
      "1       Agriculture, forestry, fishing and hunting                   2:   0-4   \n",
      "2       Agriculture, forestry, fishing and hunting                   3:   5-9   \n",
      "3       Agriculture, forestry, fishing and hunting                 4:   10-19   \n",
      "4       Agriculture, forestry, fishing and hunting                   5:   <20   \n",
      "...                                            ...                        ...   \n",
      "108085              Transportation and warehousing                   05:  <20   \n",
      "108086              Transportation and warehousing                 06:  20-99   \n",
      "108087              Transportation and warehousing               07:  100-499   \n",
      "108088              Transportation and warehousing                  08:  <500   \n",
      "108089              Transportation and warehousing                  09:  500+   \n",
      "\n",
      "        NUMBER OF FIRMS  NUMBER OF ESTABLISHMENTS  EMPLOYMENT  \\\n",
      "0                   870                       890        6428   \n",
      "1                   433                       433         867   \n",
      "2                   259                       259        1708   \n",
      "3                   112                       112        1468   \n",
      "4                   804                       804        4043   \n",
      "...                 ...                       ...         ...   \n",
      "108085              603                       603        1912   \n",
      "108086               49                        55        1320   \n",
      "108087               24                        53        1053   \n",
      "108088              676                       711        4285   \n",
      "108089               66                       228        5407   \n",
      "\n",
      "       EMPLOYMENT RANGE FLAG EMPLOYMENT NOISE FLAG  ANNUAL PAYROLL ($1,000)  \\\n",
      "0                        NaN                     G                   208455   \n",
      "1                        NaN                     G                    25451   \n",
      "2                        NaN                     G                    48440   \n",
      "3                        NaN                     G                    47620   \n",
      "4                        NaN                     G                   121511   \n",
      "...                      ...                   ...                      ...   \n",
      "108085                   NaN                     G                    86046   \n",
      "108086                   NaN                     G                    72303   \n",
      "108087                   NaN                     H                    61728   \n",
      "108088                   NaN                     G                   220077   \n",
      "108089                   NaN                     G                   295589   \n",
      "\n",
      "       ANNUAL PAYROLL NOISE FLAG  YEAR ENTERPRISE EMPLOYMENT SIZE 2  \\\n",
      "0                              G  2008                        Total   \n",
      "1                              G  2008                          0-4   \n",
      "2                              G  2008                          5-9   \n",
      "3                              G  2008                        10-19   \n",
      "4                              G  2008                          <20   \n",
      "...                          ...   ...                          ...   \n",
      "108085                         G  2017                          <20   \n",
      "108086                         G  2017                        20-99   \n",
      "108087                         H  2017                      100-499   \n",
      "108088                         G  2017                         <500   \n",
      "108089                         G  2017                         500+   \n",
      "\n",
      "                        Source_Name  \n",
      "0       state_naicssector_2008.xlsx  \n",
      "1       state_naicssector_2008.xlsx  \n",
      "2       state_naicssector_2008.xlsx  \n",
      "3       state_naicssector_2008.xlsx  \n",
      "4       state_naicssector_2008.xlsx  \n",
      "...                             ...  \n",
      "108085  state_naicssector_2017.xlsx  \n",
      "108086  state_naicssector_2017.xlsx  \n",
      "108087  state_naicssector_2017.xlsx  \n",
      "108088  state_naicssector_2017.xlsx  \n",
      "108089  state_naicssector_2017.xlsx  \n",
      "\n",
      "[108090 rows x 15 columns]\n"
     ]
    }
   ],
   "source": [
    "df1 = pd.read_csv(\"../Consolidated State_NAISC Sector 2008-2017.csv\")\n",
    "print(df1)"
   ]
  },
  {
   "cell_type": "code",
   "execution_count": 3,
   "metadata": {},
   "outputs": [],
   "source": [
    "df2 = df1.drop(columns=['FIPS STATE CODE', 'NUMBER OF FIRMS', 'NUMBER OF ESTABLISHMENTS',\n",
    "                'EMPLOYMENT RANGE FLAG', 'EMPLOYMENT NOISE FLAG', 'ANNUAL PAYROLL NOISE FLAG', \n",
    "                'ENTERPRISE EMPLOYMENT SIZE 2', 'Source_Name'])"
   ]
  },
  {
   "cell_type": "code",
   "execution_count": 4,
   "metadata": {},
   "outputs": [
    {
     "name": "stdout",
     "output_type": "stream",
     "text": [
      "       STATE DESCRIPTION NAICS CODE  \\\n",
      "0                Alabama         11   \n",
      "1                Alabama         11   \n",
      "2                Alabama         11   \n",
      "3                Alabama         11   \n",
      "4                Alabama         11   \n",
      "...                  ...        ...   \n",
      "108085           Wyoming      48-49   \n",
      "108086           Wyoming      48-49   \n",
      "108087           Wyoming      48-49   \n",
      "108088           Wyoming      48-49   \n",
      "108089           Wyoming      48-49   \n",
      "\n",
      "                                 NAICS DESCRIPTION ENTERPRISE EMPLOYMENT SIZE  \\\n",
      "0       Agriculture, forestry, fishing and hunting                 1:   Total   \n",
      "1       Agriculture, forestry, fishing and hunting                   2:   0-4   \n",
      "2       Agriculture, forestry, fishing and hunting                   3:   5-9   \n",
      "3       Agriculture, forestry, fishing and hunting                 4:   10-19   \n",
      "4       Agriculture, forestry, fishing and hunting                   5:   <20   \n",
      "...                                            ...                        ...   \n",
      "108085              Transportation and warehousing                   05:  <20   \n",
      "108086              Transportation and warehousing                 06:  20-99   \n",
      "108087              Transportation and warehousing               07:  100-499   \n",
      "108088              Transportation and warehousing                  08:  <500   \n",
      "108089              Transportation and warehousing                  09:  500+   \n",
      "\n",
      "        EMPLOYMENT  ANNUAL PAYROLL ($1,000)  YEAR  \n",
      "0             6428                   208455  2008  \n",
      "1              867                    25451  2008  \n",
      "2             1708                    48440  2008  \n",
      "3             1468                    47620  2008  \n",
      "4             4043                   121511  2008  \n",
      "...            ...                      ...   ...  \n",
      "108085        1912                    86046  2017  \n",
      "108086        1320                    72303  2017  \n",
      "108087        1053                    61728  2017  \n",
      "108088        4285                   220077  2017  \n",
      "108089        5407                   295589  2017  \n",
      "\n",
      "[108090 rows x 7 columns]\n"
     ]
    }
   ],
   "source": [
    "print(df2)"
   ]
  },
  {
   "cell_type": "code",
   "execution_count": 5,
   "metadata": {},
   "outputs": [],
   "source": [
    "only_500 = df2.loc[(df2['ENTERPRISE EMPLOYMENT SIZE'] == '8:   <500') | (df2['ENTERPRISE EMPLOYMENT SIZE'] == '9:   500+')]"
   ]
  },
  {
   "cell_type": "code",
   "execution_count": 6,
   "metadata": {},
   "outputs": [
    {
     "name": "stdout",
     "output_type": "stream",
     "text": [
      "      STATE DESCRIPTION NAICS CODE  \\\n",
      "7               Alabama         11   \n",
      "8               Alabama         11   \n",
      "16              Alabama         21   \n",
      "17              Alabama         21   \n",
      "25              Alabama         22   \n",
      "...                 ...        ...   \n",
      "37767           Wyoming      31-33   \n",
      "37775           Wyoming      44-45   \n",
      "37776           Wyoming      44-45   \n",
      "37784           Wyoming      48-49   \n",
      "37785           Wyoming      48-49   \n",
      "\n",
      "                                   NAICS DESCRIPTION  \\\n",
      "7         Agriculture, forestry, fishing and hunting   \n",
      "8         Agriculture, forestry, fishing and hunting   \n",
      "16     Mining, quarrying, and oil and gas extraction   \n",
      "17     Mining, quarrying, and oil and gas extraction   \n",
      "25                                         Utilities   \n",
      "...                                              ...   \n",
      "37767                                  Manufacturing   \n",
      "37775                                   Retail trade   \n",
      "37776                                   Retail trade   \n",
      "37784                 Transportation and warehousing   \n",
      "37785                 Transportation and warehousing   \n",
      "\n",
      "      ENTERPRISE EMPLOYMENT SIZE  EMPLOYMENT  ANNUAL PAYROLL ($1,000)  YEAR  \n",
      "7                      8:   <500        6077                   189340  2008  \n",
      "8                      9:   500+         351                    19115  2008  \n",
      "16                     8:   <500        2928                   149140  2008  \n",
      "17                     9:   500+        4744                   327408  2008  \n",
      "25                     8:   <500        1891                   102295  2008  \n",
      "...                          ...         ...                      ...   ...  \n",
      "37767                  9:   500+        4772                   337064  2011  \n",
      "37775                  8:   <500       15427                   424144  2011  \n",
      "37776                  9:   500+       14673                   342873  2011  \n",
      "37784                  8:   <500        4965                   242120  2011  \n",
      "37785                  9:   500+        5146                   268267  2011  \n",
      "\n",
      "[8340 rows x 7 columns]\n"
     ]
    }
   ],
   "source": [
    "print(only_500)"
   ]
  },
  {
   "cell_type": "code",
   "execution_count": 7,
   "metadata": {},
   "outputs": [],
   "source": [
    "updated_500 = only_500[only_500['NAICS DESCRIPTION'] != 'Total']"
   ]
  },
  {
   "cell_type": "code",
   "execution_count": 8,
   "metadata": {},
   "outputs": [
    {
     "name": "stdout",
     "output_type": "stream",
     "text": [
      "      STATE DESCRIPTION NAICS CODE  \\\n",
      "7               Alabama         11   \n",
      "8               Alabama         11   \n",
      "16              Alabama         21   \n",
      "17              Alabama         21   \n",
      "25              Alabama         22   \n",
      "...                 ...        ...   \n",
      "37767           Wyoming      31-33   \n",
      "37775           Wyoming      44-45   \n",
      "37776           Wyoming      44-45   \n",
      "37784           Wyoming      48-49   \n",
      "37785           Wyoming      48-49   \n",
      "\n",
      "                                   NAICS DESCRIPTION  \\\n",
      "7         Agriculture, forestry, fishing and hunting   \n",
      "8         Agriculture, forestry, fishing and hunting   \n",
      "16     Mining, quarrying, and oil and gas extraction   \n",
      "17     Mining, quarrying, and oil and gas extraction   \n",
      "25                                         Utilities   \n",
      "...                                              ...   \n",
      "37767                                  Manufacturing   \n",
      "37775                                   Retail trade   \n",
      "37776                                   Retail trade   \n",
      "37784                 Transportation and warehousing   \n",
      "37785                 Transportation and warehousing   \n",
      "\n",
      "      ENTERPRISE EMPLOYMENT SIZE  EMPLOYMENT  ANNUAL PAYROLL ($1,000)  YEAR  \n",
      "7                      8:   <500        6077                   189340  2008  \n",
      "8                      9:   500+         351                    19115  2008  \n",
      "16                     8:   <500        2928                   149140  2008  \n",
      "17                     9:   500+        4744                   327408  2008  \n",
      "25                     8:   <500        1891                   102295  2008  \n",
      "...                          ...         ...                      ...   ...  \n",
      "37767                  9:   500+        4772                   337064  2011  \n",
      "37775                  8:   <500       15427                   424144  2011  \n",
      "37776                  9:   500+       14673                   342873  2011  \n",
      "37784                  8:   <500        4965                   242120  2011  \n",
      "37785                  9:   500+        5146                   268267  2011  \n",
      "\n",
      "[7932 rows x 7 columns]\n"
     ]
    }
   ],
   "source": [
    "print(updated_500)"
   ]
  },
  {
   "cell_type": "code",
   "execution_count": 10,
   "metadata": {},
   "outputs": [],
   "source": [
    "updated_500.to_csv(r'../clean_consolidated_state.csv', index = False)"
   ]
  },
  {
   "cell_type": "code",
   "execution_count": null,
   "metadata": {},
   "outputs": [],
   "source": []
  }
 ],
 "metadata": {
  "kernelspec": {
   "display_name": "Python 3",
   "language": "python",
   "name": "python3"
  },
  "language_info": {
   "codemirror_mode": {
    "name": "ipython",
    "version": 3
   },
   "file_extension": ".py",
   "mimetype": "text/x-python",
   "name": "python",
   "nbconvert_exporter": "python",
   "pygments_lexer": "ipython3",
   "version": "3.7.6"
  }
 },
 "nbformat": 4,
 "nbformat_minor": 4
}
