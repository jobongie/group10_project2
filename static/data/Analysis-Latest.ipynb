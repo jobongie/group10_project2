{
 "cells": [
  {
   "cell_type": "markdown",
   "metadata": {},
   "source": [
    "## Import Libraries"
   ]
  },
  {
   "cell_type": "code",
   "execution_count": 1,
   "metadata": {},
   "outputs": [],
   "source": [
    "\n",
    "import os\n",
    "import json\n",
    "import requests\n",
    "import itertools\n",
    "import numpy as np\n",
    "import pandas as pd\n",
    "from pprint import pprint\n",
    "from sqlalchemy.orm import Session\n",
    "from sqlalchemy import create_engine\n"
   ]
  },
  {
   "cell_type": "markdown",
   "metadata": {},
   "source": [
    "## Connect to Postgress SQL DB"
   ]
  },
  {
   "cell_type": "code",
   "execution_count": 2,
   "metadata": {},
   "outputs": [],
   "source": [
    "\n",
    "pg_user = 'postgres'\n",
    "pg_password = 'password'\n",
    "db_name = 'Enterprises'\n",
    "\n",
    "connection_string = f\"{pg_user}:{pg_password}@localhost:5432/{db_name}\"\n",
    "engine = create_engine(f'postgresql://{connection_string}')\n",
    "\n"
   ]
  },
  {
   "cell_type": "markdown",
   "metadata": {},
   "source": [
    "#### Get table Names"
   ]
  },
  {
   "cell_type": "code",
   "execution_count": 3,
   "metadata": {},
   "outputs": [
    {
     "data": {
      "text/plain": [
       "['BUSINESSES', 'NAICS', 'STATES', 'DATA']"
      ]
     },
     "execution_count": 3,
     "metadata": {},
     "output_type": "execute_result"
    }
   ],
   "source": [
    "\n",
    "engine.table_names()\n"
   ]
  },
  {
   "cell_type": "markdown",
   "metadata": {},
   "source": [
    "#### Create dataframes from SQL Query"
   ]
  },
  {
   "cell_type": "code",
   "execution_count": 4,
   "metadata": {},
   "outputs": [],
   "source": [
    "\n",
    "bus_df = pd.read_sql_query('select * from \"BUSINESSES\"', con=engine)\n",
    "naics_df = pd.read_sql_query('select * from \"NAICS\"', con=engine)\n",
    "states_df = pd.read_sql_query('select * from \"STATES\"', con=engine)\n"
   ]
  },
  {
   "cell_type": "markdown",
   "metadata": {},
   "source": [
    "#### Refine Business Dataframe to only rows with employment values (where 'Employment Range Flag' is null)"
   ]
  },
  {
   "cell_type": "code",
   "execution_count": 5,
   "metadata": {},
   "outputs": [],
   "source": [
    "\n",
    "bus_df1 = bus_df[pd.isnull(bus_df['EMPLOYMENT RANGE FLAG'])]\n",
    "bus_df2 = bus_df1.copy()\n"
   ]
  },
  {
   "cell_type": "markdown",
   "metadata": {},
   "source": [
    "#### Refine Business Dataframe to only rows with relevant Enterprise Employment range categories"
   ]
  },
  {
   "cell_type": "code",
   "execution_count": 6,
   "metadata": {},
   "outputs": [],
   "source": [
    "\n",
    "# bus_df['ENTERPRISE EMPLOYMENT SIZE 2'].unique()\n",
    "bus_df2['ENTERPRISE EMPLOYMENT SIZE 2'] = bus_df2['ENTERPRISE EMPLOYMENT SIZE 2'].astype(str).str.strip()\n",
    "\n",
    "good_data = ['0--4','5--9', '10--19', '20--99','100--499','500+']\n",
    "bad_data = ['Total',' <20','<500' ,'<20','<5']\n",
    "\n",
    "bus_df2 = bus_df2.loc[~bus_df2['ENTERPRISE EMPLOYMENT SIZE 2'].isin(bad_data)]\n"
   ]
  },
  {
   "cell_type": "markdown",
   "metadata": {},
   "source": [
    "#### Refine Business Dataframe to only rows with relevant Industry names"
   ]
  },
  {
   "cell_type": "code",
   "execution_count": 7,
   "metadata": {},
   "outputs": [],
   "source": [
    "\n",
    "remove_data = ['Total', 'X']\n",
    "bus_df2 = bus_df2.loc[~bus_df2['NAICS DESCRIPTION'].isin(remove_data)]\n",
    "        "
   ]
  },
  {
   "cell_type": "markdown",
   "metadata": {},
   "source": [
    "#### Create column to classify Enterprise Employment ranges into Small & Large Business categories"
   ]
  },
  {
   "cell_type": "code",
   "execution_count": 8,
   "metadata": {},
   "outputs": [],
   "source": [
    "\n",
    "def classifier(row):\n",
    "    if row[\"ENTERPRISE EMPLOYMENT SIZE 2\"] in ['0--4', '20--99', '10--19', '5--9','100--499']:\n",
    "        return \"Small Business\"\n",
    "    elif row[\"ENTERPRISE EMPLOYMENT SIZE 2\"] == '500+':\n",
    "        return \"Large Business\" \n",
    "    else:\n",
    "        return \"N/A\"\n",
    "    \n",
    "bus_df2[\"BUSINESS_CLASSIFICATION\"] = bus_df2.apply(classifier, axis = 1)\n"
   ]
  },
  {
   "cell_type": "markdown",
   "metadata": {},
   "source": [
    "#### Create 'BC Code' for Concatenated Column for Visualization"
   ]
  },
  {
   "cell_type": "code",
   "execution_count": 9,
   "metadata": {},
   "outputs": [],
   "source": [
    "\n",
    "def bc_code(row):\n",
    "    if row[\"ENTERPRISE EMPLOYMENT SIZE 2\"] in ['0--4', '20--99', '10--19', '5--9','100--499']:\n",
    "        return \"S\"\n",
    "    elif row[\"ENTERPRISE EMPLOYMENT SIZE 2\"] == '500+':\n",
    "        return \"L\" \n",
    "    else:\n",
    "        return \"N/A\"\n",
    "    \n",
    "bus_df2[\"BC_CODE\"] = bus_df2.apply(bc_code, axis = 1)\n"
   ]
  },
  {
   "cell_type": "markdown",
   "metadata": {},
   "source": [
    "#### Create column for color grouping to be used in Bubble Visualization"
   ]
  },
  {
   "cell_type": "code",
   "execution_count": 10,
   "metadata": {},
   "outputs": [],
   "source": [
    "\n",
    "def color_grouping(row):\n",
    "    if row[\"ENTERPRISE EMPLOYMENT SIZE 2\"] in ['0--4', '20--99', '<20', '10--19', '5--9','100--499']:\n",
    "        return 1\n",
    "    elif row[\"ENTERPRISE EMPLOYMENT SIZE 2\"] == '500+':\n",
    "        return 2 \n",
    "    else:\n",
    "        return \"N/A\"\n",
    "\n",
    "bus_df2[\"COLOR_GROUP\"] = bus_df2.apply(color_grouping, axis=1)   \n"
   ]
  },
  {
   "cell_type": "markdown",
   "metadata": {},
   "source": [
    "#### Create column for Sector grouping to be used in Bubble Visualization"
   ]
  },
  {
   "cell_type": "code",
   "execution_count": 11,
   "metadata": {},
   "outputs": [],
   "source": [
    "bus_df2['SECTOR'] = bus_df2[\"BC_CODE\"] + bus_df2['NAICS CODE']"
   ]
  },
  {
   "cell_type": "markdown",
   "metadata": {},
   "source": [
    "#### Convert Payroll column to real value from rounded value"
   ]
  },
  {
   "cell_type": "code",
   "execution_count": 12,
   "metadata": {},
   "outputs": [],
   "source": [
    "bus_df2['ANNUAL PAYROLL'] = bus_df2['ANNUAL PAYROLL ($1,000)'] * 1000"
   ]
  },
  {
   "cell_type": "markdown",
   "metadata": {},
   "source": [
    "#### Refine Business & States Dataframes to only include relevant columns"
   ]
  },
  {
   "cell_type": "code",
   "execution_count": 13,
   "metadata": {},
   "outputs": [],
   "source": [
    "\n",
    "business_df = bus_df2[[ 'STATE DESCRIPTION', 'NAICS CODE', 'ENTERPRISE EMPLOYMENT SIZE 2', 'SECTOR', 'BUSINESS_CLASSIFICATION', 'NUMBER OF FIRMS', 'NUMBER OF ESTABLISHMENTS', 'EMPLOYMENT', 'ANNUAL PAYROLL', 'YEAR', 'COLOR_GROUP']].copy()\n",
    "\n",
    "\n",
    "states_df = states_df.rename(columns={'STATE':'STATE DESCRIPTION'})\n",
    "states_df = states_df[[\"STATE DESCRIPTION\",\"STATE CODE\"]]\n"
   ]
  },
  {
   "cell_type": "markdown",
   "metadata": {},
   "source": [
    "#### Create joins to establish consolidated dataframe"
   ]
  },
  {
   "cell_type": "code",
   "execution_count": 14,
   "metadata": {},
   "outputs": [],
   "source": [
    "\n",
    "business_df1 = pd.merge(business_df,naics_df,on='NAICS CODE',how='left')\n",
    "business_df1= pd.merge(business_df1,states_df,on='STATE DESCRIPTION',how='left')\n"
   ]
  },
  {
   "cell_type": "markdown",
   "metadata": {},
   "source": [
    "#### Reorder Dataframe"
   ]
  },
  {
   "cell_type": "code",
   "execution_count": 15,
   "metadata": {},
   "outputs": [
    {
     "data": {
      "text/html": [
       "<div>\n",
       "<style scoped>\n",
       "    .dataframe tbody tr th:only-of-type {\n",
       "        vertical-align: middle;\n",
       "    }\n",
       "\n",
       "    .dataframe tbody tr th {\n",
       "        vertical-align: top;\n",
       "    }\n",
       "\n",
       "    .dataframe thead th {\n",
       "        text-align: right;\n",
       "    }\n",
       "</style>\n",
       "<table border=\"1\" class=\"dataframe\">\n",
       "  <thead>\n",
       "    <tr style=\"text-align: right;\">\n",
       "      <th></th>\n",
       "      <th>YEAR</th>\n",
       "      <th>STATE DESCRIPTION</th>\n",
       "      <th>STATE CODE</th>\n",
       "      <th>NAICS CODE</th>\n",
       "      <th>NAME</th>\n",
       "      <th>ENTERPRISE EMPLOYMENT SIZE 2</th>\n",
       "      <th>BUSINESS_CLASSIFICATION</th>\n",
       "      <th>SECTOR</th>\n",
       "      <th>NUMBER OF FIRMS</th>\n",
       "      <th>NUMBER OF ESTABLISHMENTS</th>\n",
       "      <th>EMPLOYMENT</th>\n",
       "      <th>ANNUAL PAYROLL</th>\n",
       "      <th>COLOR_GROUP</th>\n",
       "      <th>INDEX</th>\n",
       "    </tr>\n",
       "  </thead>\n",
       "  <tbody>\n",
       "    <tr>\n",
       "      <th>0</th>\n",
       "      <td>2008</td>\n",
       "      <td>Montana</td>\n",
       "      <td>MT</td>\n",
       "      <td>23</td>\n",
       "      <td>Construction</td>\n",
       "      <td>0--4</td>\n",
       "      <td>Small Business</td>\n",
       "      <td>S23</td>\n",
       "      <td>5905</td>\n",
       "      <td>5913</td>\n",
       "      <td>26822</td>\n",
       "      <td>1046694000</td>\n",
       "      <td>1</td>\n",
       "      <td>4</td>\n",
       "    </tr>\n",
       "    <tr>\n",
       "      <th>1</th>\n",
       "      <td>2008</td>\n",
       "      <td>Alabama</td>\n",
       "      <td>AL</td>\n",
       "      <td>11</td>\n",
       "      <td>Agriculture, Forestry, Fishing and Hunting</td>\n",
       "      <td>0--4</td>\n",
       "      <td>Small Business</td>\n",
       "      <td>S11</td>\n",
       "      <td>858</td>\n",
       "      <td>864</td>\n",
       "      <td>6077</td>\n",
       "      <td>189340000</td>\n",
       "      <td>1</td>\n",
       "      <td>1</td>\n",
       "    </tr>\n",
       "    <tr>\n",
       "      <th>2</th>\n",
       "      <td>2008</td>\n",
       "      <td>Alabama</td>\n",
       "      <td>AL</td>\n",
       "      <td>21</td>\n",
       "      <td>Mining, Quarrying, and Oil and Gas Extraction</td>\n",
       "      <td>0--4</td>\n",
       "      <td>Small Business</td>\n",
       "      <td>S21</td>\n",
       "      <td>162</td>\n",
       "      <td>169</td>\n",
       "      <td>2928</td>\n",
       "      <td>149140000</td>\n",
       "      <td>1</td>\n",
       "      <td>2</td>\n",
       "    </tr>\n",
       "    <tr>\n",
       "      <th>3</th>\n",
       "      <td>2008</td>\n",
       "      <td>Alabama</td>\n",
       "      <td>AL</td>\n",
       "      <td>23</td>\n",
       "      <td>Construction</td>\n",
       "      <td>0--4</td>\n",
       "      <td>Small Business</td>\n",
       "      <td>S23</td>\n",
       "      <td>9668</td>\n",
       "      <td>9696</td>\n",
       "      <td>93263</td>\n",
       "      <td>3430552000</td>\n",
       "      <td>1</td>\n",
       "      <td>4</td>\n",
       "    </tr>\n",
       "    <tr>\n",
       "      <th>4</th>\n",
       "      <td>2008</td>\n",
       "      <td>Alabama</td>\n",
       "      <td>AL</td>\n",
       "      <td>31-33</td>\n",
       "      <td>Manufacturing</td>\n",
       "      <td>0--4</td>\n",
       "      <td>Small Business</td>\n",
       "      <td>S31-33</td>\n",
       "      <td>3977</td>\n",
       "      <td>4065</td>\n",
       "      <td>94975</td>\n",
       "      <td>3360886000</td>\n",
       "      <td>1</td>\n",
       "      <td>5</td>\n",
       "    </tr>\n",
       "  </tbody>\n",
       "</table>\n",
       "</div>"
      ],
      "text/plain": [
       "   YEAR STATE DESCRIPTION STATE CODE NAICS CODE  \\\n",
       "0  2008           Montana         MT         23   \n",
       "1  2008           Alabama         AL         11   \n",
       "2  2008           Alabama         AL         21   \n",
       "3  2008           Alabama         AL         23   \n",
       "4  2008           Alabama         AL      31-33   \n",
       "\n",
       "                                            NAME ENTERPRISE EMPLOYMENT SIZE 2  \\\n",
       "0                                   Construction                         0--4   \n",
       "1     Agriculture, Forestry, Fishing and Hunting                         0--4   \n",
       "2  Mining, Quarrying, and Oil and Gas Extraction                         0--4   \n",
       "3                                   Construction                         0--4   \n",
       "4                                  Manufacturing                         0--4   \n",
       "\n",
       "  BUSINESS_CLASSIFICATION  SECTOR  NUMBER OF FIRMS  NUMBER OF ESTABLISHMENTS  \\\n",
       "0          Small Business     S23             5905                      5913   \n",
       "1          Small Business     S11              858                       864   \n",
       "2          Small Business     S21              162                       169   \n",
       "3          Small Business     S23             9668                      9696   \n",
       "4          Small Business  S31-33             3977                      4065   \n",
       "\n",
       "   EMPLOYMENT  ANNUAL PAYROLL  COLOR_GROUP  INDEX  \n",
       "0       26822      1046694000            1      4  \n",
       "1        6077       189340000            1      1  \n",
       "2        2928       149140000            1      2  \n",
       "3       93263      3430552000            1      4  \n",
       "4       94975      3360886000            1      5  "
      ]
     },
     "execution_count": 15,
     "metadata": {},
     "output_type": "execute_result"
    }
   ],
   "source": [
    "\n",
    "business_df1 = business_df1[['YEAR','STATE DESCRIPTION', 'STATE CODE', 'NAICS CODE', 'NAME', 'ENTERPRISE EMPLOYMENT SIZE 2', 'BUSINESS_CLASSIFICATION', 'SECTOR', 'NUMBER OF FIRMS', 'NUMBER OF ESTABLISHMENTS', 'EMPLOYMENT', 'ANNUAL PAYROLL', 'COLOR_GROUP', 'INDEX']].copy()\n",
    "business_df1.head(5)\n"
   ]
  },
  {
   "cell_type": "markdown",
   "metadata": {},
   "source": [
    "#### Table with all relavent data"
   ]
  },
  {
   "cell_type": "code",
   "execution_count": 16,
   "metadata": {},
   "outputs": [],
   "source": [
    "\n",
    "table_df = business_df1.rename(columns = {'INDEX': 'INDUSTRY_INDEX','NAME': 'INDUSTRY','STATE DESCRIPTION': 'STATE_DESCRIPTION', 'STATE CODE' : 'STATE_CODE', 'NAICS CODE' : 'NAICS_CODE' , 'ENTERPRISE EMPLOYMENT SIZE 2' : 'ENTERPRISE_EMPLOYMENT_SIZE', 'NUMBER OF FIRMS': 'NUMBER_OF_FIRMS', 'NUMBER OF ESTABLISHMENTS' : 'NUMBER_OF_ESTABLISHMENTS', 'ANNUAL PAYROLL' : 'ANNUAL_PAYROLL' })\n",
    "# Output file name and path\n",
    "#file_path = os.path.join(\".\",\"static\",\"data\",\"table_df.csv\")\n",
    "#table_df.to_csv(file_path, index=False, header=True)\n"
   ]
  },
  {
   "cell_type": "code",
   "execution_count": 18,
   "metadata": {},
   "outputs": [
    {
     "name": "stdout",
     "output_type": "stream",
     "text": [
      "{'ANNUAL_PAYROLL': 762376000,\n",
      " 'BUSINESS_CLASSIFICATION': 'Large Business',\n",
      " 'EMPLOYMENT': 22397,\n",
      " 'FIRMS_log': 7.409390936137702,\n",
      " 'INDUSTRY': 'Agriculture, Forestry, Fishing and Hunting',\n",
      " 'NAICS_CODE': '11',\n",
      " 'NUMBER_OF_FIRMS': 170,\n",
      " 'YEAR': 2008}\n"
     ]
    }
   ],
   "source": [
    "    pmobs_df = table_df[['YEAR', 'NAICS_CODE', 'INDUSTRY', \"NUMBER_OF_FIRMS\", \"BUSINESS_CLASSIFICATION\",'EMPLOYMENT','ANNUAL_PAYROLL']].copy()\n",
    "    remove_data = ['Industries not classified', 'X']\n",
    "    pmobs_df = pmobs_df.loc[~pmobs_df[\"INDUSTRY\"].isin(remove_data)]\n",
    "    pmobg_df = pmobs_df.groupby(['YEAR', 'NAICS_CODE', 'INDUSTRY', \"BUSINESS_CLASSIFICATION\" ])\n",
    "    ppayroll_sum = pd.DataFrame(pmobg_df['ANNUAL_PAYROLL'].sum())\n",
    "    pemployment_sum = pd.DataFrame(pmobg_df['EMPLOYMENT'].sum())\n",
    "    pfirms_sum = pd.DataFrame(pmobg_df['NUMBER_OF_FIRMS'].sum())\n",
    "    pmob_df = pd.concat([ppayroll_sum,pemployment_sum, pfirms_sum],axis=1)\n",
    "    pmob_df.sort_values(by='YEAR', inplace=True, ascending = True)\n",
    "    pmob_df.reset_index(inplace = True)\n",
    "    pmob_df['FIRMS_log'] = np.log2(pmob_df['NUMBER_OF_FIRMS'])\n",
    "    \n",
    "    dictionary = pmob_df.to_dict(orient='records')\n",
    "    \n",
    "    pprint(dictionary[0])"
   ]
  },
  {
   "cell_type": "code",
   "execution_count": null,
   "metadata": {},
   "outputs": [],
   "source": [
    "    \"ANNUAL_PAYROLL\": 1046694000.0, \n",
    "    \"BUSINESS_CLASSIFICATION\": \"Small Business\", \n",
    "    \"COLOR_GROUP\": 1, \n",
    "    \"EMPLOYMENT\": 26822, \n",
    "    \"ENTERPRISE_EMPLOYMENT_SIZE\": \"0--4\", \n",
    "    \"INDUSTRY\": \"Construction\", \n",
    "    \"INDUSTRY_INDEX\": 4, \n",
    "    \"NAICS_CODE\": \"23\", \n",
    "    \"NUMBER_OF_ESTABLISHMENTS\": \"5913\", \n",
    "    \"NUMBER_OF_FIRMS\": \"5905\", \n",
    "    \"SECTOR\": \"S23\", \n",
    "    \"STATE_CODE\": \"MT\", \n",
    "    \"STATE_DESCRIPTION\": \"Montana\", \n",
    "    \"YEAR\": 2008, \n",
    "    \"id\": 1"
   ]
  },
  {
   "cell_type": "markdown",
   "metadata": {},
   "source": [
    "#### Create data frame for Bubble Visualization"
   ]
  },
  {
   "cell_type": "code",
   "execution_count": null,
   "metadata": {},
   "outputs": [],
   "source": [
    "\n",
    "bub_df = table_df[['INDUSTRY_INDEX', 'SECTOR', 'INDUSTRY', 'BUSINESS_CLASSIFICATION', 'EMPLOYMENT','ANNUAL_PAYROLL', 'YEAR', 'COLOR_GROUP']].copy()\n",
    "bub_df.head()\n"
   ]
  },
  {
   "cell_type": "code",
   "execution_count": null,
   "metadata": {},
   "outputs": [],
   "source": [
    "bubg_df = bub_df.groupby([\"INDUSTRY_INDEX\",\"SECTOR\", \"INDUSTRY\", 'BUSINESS_CLASSIFICATION', 'YEAR', 'COLOR_GROUP'])\n",
    "payroll_sum = pd.DataFrame(bubg_df['ANNUAL_PAYROLL'].sum())\n",
    "employment_sum = pd.DataFrame(bubg_df['EMPLOYMENT'].sum())\n",
    "\n",
    "\n",
    "\n",
    "#Create a summary data frame by concatenating the results data frames into one data frame to hold the results\n",
    "bubble_df = pd.concat([payroll_sum,employment_sum],axis=1)\n",
    "\n",
    "#Sort by total purchase count column in descending order \n",
    "bubble_df.sort_values(by='YEAR', inplace=True, ascending = True)\n",
    "\n",
    "#Display summary data frame\n",
    "bubble_df.reset_index(inplace = True)\n",
    "bubble_df.head()"
   ]
  },
  {
   "cell_type": "markdown",
   "metadata": {},
   "source": [
    "#### Create columns to show Average Salary per Employee"
   ]
  },
  {
   "cell_type": "code",
   "execution_count": null,
   "metadata": {},
   "outputs": [],
   "source": [
    "bubble_df['AVG_SALARY'] = bubble_df['ANNUAL_PAYROLL'] / bubble_df['EMPLOYMENT']\n",
    "bubble_df['AVG_SALARY_F'] = bubble_df['AVG_SALARY'].astype(float).map(\"${:,.0f}\".format)\n",
    "\n",
    "#Sort by total purchase count column in descending order \n",
    "\n",
    "bubble_df.head()"
   ]
  },
  {
   "cell_type": "code",
   "execution_count": null,
   "metadata": {},
   "outputs": [],
   "source": [
    "\n",
    "mapp_df = table_df[[\"STATE_DESCRIPTION\",\"STATE_CODE\",\"BUSINESS_CLASSIFICATION\", \"YEAR\", 'EMPLOYMENT','ANNUAL_PAYROLL']].copy()\n",
    "mapp_df.head()\n"
   ]
  },
  {
   "cell_type": "code",
   "execution_count": null,
   "metadata": {},
   "outputs": [],
   "source": [
    "mapg_df = mapp_df.groupby([\"STATE_DESCRIPTION\",\"STATE_CODE\",\"BUSINESS_CLASSIFICATION\", \"YEAR\"])\n",
    "mpayroll_sum = pd.DataFrame(mapg_df['ANNUAL_PAYROLL'].sum())\n",
    "memployment_sum = pd.DataFrame(mapg_df['EMPLOYMENT'].sum())\n",
    "\n",
    "#Create a summary data frame by concatenating the results data frames into one data frame to hold the results\n",
    "map_df = pd.concat([mpayroll_sum,memployment_sum],axis=1)\n",
    "\n",
    "#Sort by total purchase count column in descending order \n",
    "map_df.sort_values(by='YEAR', inplace=True, ascending = True)\n",
    "\n",
    "#Display summary data frame\n",
    "map_df.reset_index(inplace = True)\n",
    "map_df.head()\n"
   ]
  },
  {
   "cell_type": "markdown",
   "metadata": {},
   "source": [
    "#### Write Dataframes to PostgreSQL DB"
   ]
  },
  {
   "cell_type": "code",
   "execution_count": null,
   "metadata": {},
   "outputs": [],
   "source": [
    "# bubble_df.to_sql(name=\"BUBBLE_SUMMARY\", con=engine, if_exists='replace', index=False)\n",
    "# table_df.to_sql(name=\"DATA\", con=engine, if_exists='replace', index=False)"
   ]
  },
  {
   "cell_type": "markdown",
   "metadata": {},
   "source": [
    "#### Export DF's for temporary usage"
   ]
  },
  {
   "cell_type": "code",
   "execution_count": null,
   "metadata": {},
   "outputs": [],
   "source": [
    "\n",
    "# Output file name and path\n",
    "file_path = os.path.join(\".\",\"static\",\"data\",\"table_df.csv\")\n",
    "table_df.to_csv(file_path, index=False, header=True)\n",
    "\n",
    "# Output file name and path\n",
    "file_path = os.path.join(\".\",\"static\",\"data\",\"bubble_df.csv\")\n",
    "bubble_df.to_csv(file_path, index=False, header=True)\n",
    "\n",
    "# Output file name and path\n",
    "file_path = os.path.join(\".\",\"static\",\"data\",\"map_df.csv\")\n",
    "map_df.to_csv(file_path, index=False, header=True)\n",
    "\n"
   ]
  },
  {
   "cell_type": "code",
   "execution_count": null,
   "metadata": {},
   "outputs": [],
   "source": [
    "test = bubble_df.to_dict(orient='records')\n",
    "test\n"
   ]
  },
  {
   "cell_type": "markdown",
   "metadata": {},
   "source": [
    "#### Transformation for Dual Line Chart"
   ]
  },
  {
   "cell_type": "code",
   "execution_count": null,
   "metadata": {},
   "outputs": [],
   "source": [
    "businesses_df = table_df[[\"YEAR\", \"STATE_DESCRIPTION\",\"STATE_CODE\", 'NAICS_CODE', 'INDUSTRY', \"BUSINESS_CLASSIFICATION\",  'EMPLOYMENT','ANNUAL_PAYROLL']].copy()"
   ]
  },
  {
   "cell_type": "code",
   "execution_count": null,
   "metadata": {},
   "outputs": [],
   "source": [
    "remove_datas = ['Large Business', 'X']\n",
    "remove_datab = ['Small Business', 'X']\n",
    "s_businesses_df = businesses_df.loc[~businesses_df[\"BUSINESS_CLASSIFICATION\"].isin(remove_datas)]\n",
    "b_businesses_df = businesses_df.loc[~businesses_df[\"BUSINESS_CLASSIFICATION\"].isin(remove_datab)]\n"
   ]
  },
  {
   "cell_type": "code",
   "execution_count": null,
   "metadata": {},
   "outputs": [],
   "source": [
    "#### Small Business Data Frame Transformations\n",
    "sg_businesses_df = s_businesses_df.groupby([\"YEAR\", \"STATE_DESCRIPTION\",\"STATE_CODE\", 'NAICS_CODE', 'INDUSTRY', \"BUSINESS_CLASSIFICATION\"])\n",
    "s_payroll_sum = pd.DataFrame(sg_businesses_df['ANNUAL_PAYROLL'].sum())\n",
    "s_employment_sum = pd.DataFrame(sg_businesses_df['EMPLOYMENT'].sum())\n",
    "\n",
    "#Create a summary data frame by concatenating the results data frames into one data frame to hold the results\n",
    "s_business_df = pd.concat([s_payroll_sum,s_employment_sum],axis=1)\n",
    "\n",
    "#Sort by total purchase count column in descending order \n",
    "s_business_df.sort_values(by='YEAR', inplace=True, ascending = True)\n",
    "\n",
    "#Display summary data frame\n",
    "s_business_df.reset_index(inplace = True)\n",
    "\n",
    "s_business_df['AVG_SALARY_S'] = s_business_df['ANNUAL_PAYROLL'] / s_business_df['EMPLOYMENT']\n",
    "s_business_df = s_business_df.rename(columns = {'ANNUAL_PAYROLL': 'ANNUAL_PAYROLL_S','EMPLOYMENT': 'EMPLOYMENT_S', \"BUSINESS_CLASSIFICATION\": \"BUSINESS_CLASSIFICATION_S\"}) \n",
    "s_business_df.head()"
   ]
  },
  {
   "cell_type": "code",
   "execution_count": null,
   "metadata": {},
   "outputs": [],
   "source": [
    "#### Large Business Data Frame Transformations\n",
    "bg_businesses_df = b_businesses_df.groupby([\"YEAR\", \"STATE_DESCRIPTION\",\"STATE_CODE\", 'NAICS_CODE', 'INDUSTRY', \"BUSINESS_CLASSIFICATION\"])\n",
    "b_payroll_sum = pd.DataFrame(bg_businesses_df['ANNUAL_PAYROLL'].sum())\n",
    "b_employment_sum = pd.DataFrame(bg_businesses_df['EMPLOYMENT'].sum())\n",
    "\n",
    "#Create a summary data frame by concatenating the results data frames into one data frame to hold the results\n",
    "b_business_df = pd.concat([b_payroll_sum,b_employment_sum],axis=1)\n",
    "\n",
    "#Sort by total purchase count column in descending order \n",
    "b_business_df.sort_values(by='YEAR', inplace=True, ascending = True)\n",
    "\n",
    "#Display summary data frame\n",
    "b_business_df.reset_index(inplace = True)\n",
    "\n",
    "b_business_df['AVG_SALARY_B'] = b_business_df['ANNUAL_PAYROLL'] / b_business_df['EMPLOYMENT']\n",
    "b_business_df = b_business_df.rename(columns = {'ANNUAL_PAYROLL': 'ANNUAL_PAYROLL_B','EMPLOYMENT': 'EMPLOYMENT_B', \"BUSINESS_CLASSIFICATION\": \"BUSINESS_CLASSIFICATION_B\"}) \n",
    "b_business_df.head()"
   ]
  },
  {
   "cell_type": "code",
   "execution_count": null,
   "metadata": {},
   "outputs": [],
   "source": [
    "merge = pd.merge(s_business_df,b_business_df,  how='left', left_on=[\"YEAR\", \"STATE_DESCRIPTION\",\"STATE_CODE\", 'NAICS_CODE', 'INDUSTRY'], right_on = [\"YEAR\", \"STATE_DESCRIPTION\",\"STATE_CODE\", 'NAICS_CODE', 'INDUSTRY'])\n",
    "merge.dropna(subset = [\"BUSINESS_CLASSIFICATION_B\"], inplace=True)"
   ]
  },
  {
   "cell_type": "code",
   "execution_count": null,
   "metadata": {},
   "outputs": [],
   "source": [
    "# Output file name and path\n",
    "file_path = os.path.join(\".\",\"static\",\"data\",\"linechart_df.csv\")\n",
    "merge.to_csv(file_path, index=False, header=True)"
   ]
  }
 ],
 "metadata": {
  "kernelspec": {
   "display_name": "Python 3",
   "language": "python",
   "name": "python3"
  },
  "language_info": {
   "codemirror_mode": {
    "name": "ipython",
    "version": 3
   },
   "file_extension": ".py",
   "mimetype": "text/x-python",
   "name": "python",
   "nbconvert_exporter": "python",
   "pygments_lexer": "ipython3",
   "version": "3.7.9"
  }
 },
 "nbformat": 4,
 "nbformat_minor": 4
}
