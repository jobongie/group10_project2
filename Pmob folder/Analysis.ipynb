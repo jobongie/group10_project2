{
 "cells": [
  {
   "cell_type": "markdown",
   "metadata": {},
   "source": [
    "#### Import Libraries"
   ]
  },
  {
   "cell_type": "code",
   "execution_count": 14,
   "metadata": {},
   "outputs": [],
   "source": [
    "import pandas as pd\n",
    "from sqlalchemy import create_engine\n",
    "import os\n",
    "import numpy as np"
   ]
  },
  {
   "cell_type": "markdown",
   "metadata": {},
   "source": [
    "#### Connect to Postgress SQL DB"
   ]
  },
  {
   "cell_type": "code",
   "execution_count": 15,
   "metadata": {},
   "outputs": [],
   "source": [
    "pg_user = 'postgres'\n",
    "pg_password = 'mobo0056'\n",
    "db_name = 'Enterprises'\n",
    "\n",
    "connection_string = f\"{pg_user}:{pg_password}@localhost:5432/{db_name}\"\n",
    "engine = create_engine(f'postgresql://{connection_string}')"
   ]
  },
  {
   "cell_type": "markdown",
   "metadata": {},
   "source": [
    "#### Get table Names"
   ]
  },
  {
   "cell_type": "code",
   "execution_count": 16,
   "metadata": {},
   "outputs": [
    {
     "data": {
      "text/plain": [
       "['NAICS', 'BUSINESSES']"
      ]
     },
     "execution_count": 16,
     "metadata": {},
     "output_type": "execute_result"
    }
   ],
   "source": [
    "engine.table_names()"
   ]
  },
  {
   "cell_type": "markdown",
   "metadata": {},
   "source": [
    "#### Create dataframe from SQL Query"
   ]
  },
  {
   "cell_type": "code",
   "execution_count": 18,
   "metadata": {},
   "outputs": [],
   "source": [
    "bus_df = pd.read_sql_query('select * from \"BUSINESSES\"', con=engine)"
   ]
  },
  {
   "cell_type": "markdown",
   "metadata": {},
   "source": [
    "#### Refine Dataframe to only include relevant columns"
   ]
  },
  {
   "cell_type": "code",
   "execution_count": null,
   "metadata": {},
   "outputs": [],
   "source": [
    "business_df = bus_df[[ 'STATE DESCRIPTION', 'NAICS CODE', 'ENTERPRISE EMPLOYMENT SIZE 2', 'NUMBER OF FIRMS', 'NUMBER OF ESTABLISHMENTS', 'EMPLOYMENT', 'ANNUAL PAYROLL ($1,000)', 'YEAR']].copy()\n",
    "business_df = business_df.rename(columns = {'ENTERPRISE EMPLOYMENT SIZE 2': 'ENTERPRISE EMPLOYMENT SIZE' })\n",
    "business_df.head()"
   ]
  },
  {
   "cell_type": "markdown",
   "metadata": {},
   "source": [
    "#### Convert Payroll column to real value from rounded value"
   ]
  },
  {
   "cell_type": "code",
   "execution_count": null,
   "metadata": {},
   "outputs": [],
   "source": [
    "business_df['ANNUAL PAYROLL'] = business_df['ANNUAL PAYROLL ($1,000)'] * 1000"
   ]
  },
  {
   "cell_type": "markdown",
   "metadata": {},
   "source": [
    "#### Delete Original Payroll Column"
   ]
  },
  {
   "cell_type": "code",
   "execution_count": 21,
   "metadata": {},
   "outputs": [],
   "source": [
    "del business_df['ANNUAL PAYROLL ($1,000)']"
   ]
  },
  {
   "cell_type": "markdown",
   "metadata": {},
   "source": [
    "#### Define Primary Dataframe"
   ]
  },
  {
   "cell_type": "code",
   "execution_count": 27,
   "metadata": {},
   "outputs": [
    {
     "data": {
      "text/html": [
       "<div>\n",
       "<style scoped>\n",
       "    .dataframe tbody tr th:only-of-type {\n",
       "        vertical-align: middle;\n",
       "    }\n",
       "\n",
       "    .dataframe tbody tr th {\n",
       "        vertical-align: top;\n",
       "    }\n",
       "\n",
       "    .dataframe thead th {\n",
       "        text-align: right;\n",
       "    }\n",
       "</style>\n",
       "<table border=\"1\" class=\"dataframe\">\n",
       "  <thead>\n",
       "    <tr style=\"text-align: right;\">\n",
       "      <th></th>\n",
       "      <th>STATE DESCRIPTION</th>\n",
       "      <th>NAICS CODE</th>\n",
       "      <th>ENTERPRISE EMPLOYMENT SIZE</th>\n",
       "      <th>NUMBER OF FIRMS</th>\n",
       "      <th>NUMBER OF ESTABLISHMENTS</th>\n",
       "      <th>EMPLOYMENT</th>\n",
       "      <th>YEAR</th>\n",
       "      <th>ANNUAL PAYROLL</th>\n",
       "    </tr>\n",
       "  </thead>\n",
       "  <tbody>\n",
       "    <tr>\n",
       "      <th>0</th>\n",
       "      <td>Alabama</td>\n",
       "      <td>11</td>\n",
       "      <td>Total</td>\n",
       "      <td>870</td>\n",
       "      <td>890</td>\n",
       "      <td>6428</td>\n",
       "      <td>2008</td>\n",
       "      <td>208455000</td>\n",
       "    </tr>\n",
       "    <tr>\n",
       "      <th>1</th>\n",
       "      <td>Alabama</td>\n",
       "      <td>11</td>\n",
       "      <td>0-4</td>\n",
       "      <td>433</td>\n",
       "      <td>433</td>\n",
       "      <td>867</td>\n",
       "      <td>2008</td>\n",
       "      <td>25451000</td>\n",
       "    </tr>\n",
       "    <tr>\n",
       "      <th>2</th>\n",
       "      <td>Alabama</td>\n",
       "      <td>11</td>\n",
       "      <td>5-9</td>\n",
       "      <td>259</td>\n",
       "      <td>259</td>\n",
       "      <td>1708</td>\n",
       "      <td>2008</td>\n",
       "      <td>48440000</td>\n",
       "    </tr>\n",
       "    <tr>\n",
       "      <th>3</th>\n",
       "      <td>Alabama</td>\n",
       "      <td>11</td>\n",
       "      <td>10-19</td>\n",
       "      <td>112</td>\n",
       "      <td>112</td>\n",
       "      <td>1468</td>\n",
       "      <td>2008</td>\n",
       "      <td>47620000</td>\n",
       "    </tr>\n",
       "    <tr>\n",
       "      <th>4</th>\n",
       "      <td>Alabama</td>\n",
       "      <td>11</td>\n",
       "      <td>&lt;20</td>\n",
       "      <td>804</td>\n",
       "      <td>804</td>\n",
       "      <td>4043</td>\n",
       "      <td>2008</td>\n",
       "      <td>121511000</td>\n",
       "    </tr>\n",
       "  </tbody>\n",
       "</table>\n",
       "</div>"
      ],
      "text/plain": [
       "  STATE DESCRIPTION NAICS CODE ENTERPRISE EMPLOYMENT SIZE  NUMBER OF FIRMS  \\\n",
       "0           Alabama         11                      Total              870   \n",
       "1           Alabama         11                        0-4              433   \n",
       "2           Alabama         11                        5-9              259   \n",
       "3           Alabama         11                      10-19              112   \n",
       "4           Alabama         11                        <20              804   \n",
       "\n",
       "   NUMBER OF ESTABLISHMENTS  EMPLOYMENT  YEAR  ANNUAL PAYROLL  \n",
       "0                       890        6428  2008       208455000  \n",
       "1                       433         867  2008        25451000  \n",
       "2                       259        1708  2008        48440000  \n",
       "3                       112        1468  2008        47620000  \n",
       "4                       804        4043  2008       121511000  "
      ]
     },
     "execution_count": 27,
     "metadata": {},
     "output_type": "execute_result"
    }
   ],
   "source": [
    "business_df1 = business_df\n",
    "business_df1.head()"
   ]
  }
 ],
 "metadata": {
  "kernelspec": {
   "display_name": "Python 3",
   "language": "python",
   "name": "python3"
  },
  "language_info": {
   "codemirror_mode": {
    "name": "ipython",
    "version": 3
   },
   "file_extension": ".py",
   "mimetype": "text/x-python",
   "name": "python",
   "nbconvert_exporter": "python",
   "pygments_lexer": "ipython3",
   "version": "3.7.6"
  }
 },
 "nbformat": 4,
 "nbformat_minor": 4
}
