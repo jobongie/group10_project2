{
 "cells": [
  {
   "cell_type": "markdown",
   "metadata": {},
   "source": [
    "## Import Libraries"
   ]
  },
  {
   "cell_type": "code",
<<<<<<< Updated upstream
<<<<<<< Updated upstream
   "execution_count": 1,
=======
   "execution_count": 23,
>>>>>>> Stashed changes
=======
   "execution_count": 23,
>>>>>>> Stashed changes
   "metadata": {},
   "outputs": [],
   "source": [
    "\n",
    "import os\n",
    "import json\n",
    "import requests\n",
    "import itertools\n",
    "import numpy as np\n",
    "import pandas as pd\n",
    "from pprint import pprint\n",
    "from sqlalchemy.orm import Session\n",
    "from sqlalchemy import create_engine\n"
   ]
  },
  {
   "cell_type": "markdown",
   "metadata": {},
   "source": [
    "## Read in CSV for adding State Codes"
   ]
  },
  {
   "cell_type": "code",
<<<<<<< Updated upstream
<<<<<<< Updated upstream
   "execution_count": 2,
=======
   "execution_count": 21,
>>>>>>> Stashed changes
=======
   "execution_count": 21,
>>>>>>> Stashed changes
   "metadata": {},
   "outputs": [
    {
     "data": {
      "text/html": [
       "<div>\n",
       "<style scoped>\n",
       "    .dataframe tbody tr th:only-of-type {\n",
       "        vertical-align: middle;\n",
       "    }\n",
       "\n",
       "    .dataframe tbody tr th {\n",
       "        vertical-align: top;\n",
       "    }\n",
       "\n",
       "    .dataframe thead th {\n",
       "        text-align: right;\n",
       "    }\n",
       "</style>\n",
       "<table border=\"1\" class=\"dataframe\">\n",
       "  <thead>\n",
       "    <tr style=\"text-align: right;\">\n",
       "      <th></th>\n",
       "      <th>STATE DESCRIPTION</th>\n",
       "      <th>STATE CODE</th>\n",
       "    </tr>\n",
       "  </thead>\n",
       "  <tbody>\n",
       "    <tr>\n",
       "      <th>0</th>\n",
       "      <td>Alabama</td>\n",
       "      <td>AL</td>\n",
       "    </tr>\n",
       "    <tr>\n",
       "      <th>1</th>\n",
       "      <td>Alaska</td>\n",
       "      <td>AK</td>\n",
       "    </tr>\n",
       "    <tr>\n",
       "      <th>2</th>\n",
       "      <td>Arizona</td>\n",
       "      <td>AZ</td>\n",
       "    </tr>\n",
       "    <tr>\n",
       "      <th>3</th>\n",
       "      <td>Arkansas</td>\n",
       "      <td>AR</td>\n",
       "    </tr>\n",
       "    <tr>\n",
       "      <th>4</th>\n",
       "      <td>California</td>\n",
       "      <td>CA</td>\n",
       "    </tr>\n",
       "  </tbody>\n",
       "</table>\n",
       "</div>"
      ],
      "text/plain": [
       "  STATE DESCRIPTION STATE CODE\n",
       "0           Alabama         AL\n",
       "1            Alaska         AK\n",
       "2           Arizona         AZ\n",
       "3          Arkansas         AR\n",
       "4        California         CA"
      ]
     },
<<<<<<< Updated upstream
<<<<<<< Updated upstream
     "execution_count": 2,
=======
     "execution_count": 21,
>>>>>>> Stashed changes
=======
     "execution_count": 21,
>>>>>>> Stashed changes
     "metadata": {},
     "output_type": "execute_result"
    }
   ],
   "source": [
    "# Import state code CSV\n",
    "# file_path = os.path.join(\".\",\"static\",\"data\",\"state_codes.csv\")\n",
    "# state_codes_df = pd.read_csv(file_path)\n",
    "# state_codes_df = state_codes_df.rename(columns={\"State\":\"STATE DESCRIPTION\",\n",
    "#                                                 \"Code\":\"STATE CODE\"})\n",
    "# state_codes_df = state_codes_df[[\"STATE DESCRIPTION\",\"STATE CODE\"]]\n",
    "\n",
    "# state_codes_df.head()"
   ]
  },
  {
   "cell_type": "markdown",
   "metadata": {},
   "source": [
    "## Connect to Postgress SQL DB"
   ]
  },
  {
   "cell_type": "code",
   "execution_count": 31,
   "metadata": {},
   "outputs": [],
   "source": [
    "\n",
    "pg_user = 'postgres'\n",
    "pg_password = 'mobo0056'\n",
    "db_name = 'Enterprises'\n",
    "\n",
    "connection_string = f\"{pg_user}:{pg_password}@localhost:5432/{db_name}\"\n",
    "engine = create_engine(f'postgresql://{connection_string}')\n",
    "\n"
   ]
  },
  {
   "cell_type": "markdown",
   "metadata": {},
   "source": [
    "#### Get table Names"
   ]
  },
  {
   "cell_type": "code",
   "execution_count": 32,
   "metadata": {},
   "outputs": [
    {
     "data": {
      "text/plain": [
       "['NAICS', 'BUSINESSES', 'STATES']"
      ]
     },
     "execution_count": 32,
     "metadata": {},
     "output_type": "execute_result"
    }
   ],
   "source": [
    "\n",
    "engine.table_names()\n"
   ]
  },
  {
   "cell_type": "markdown",
   "metadata": {},
   "source": [
    "#### Create dataframes from SQL Query"
   ]
  },
  {
   "cell_type": "code",
   "execution_count": 98,
   "metadata": {},
   "outputs": [],
   "source": [
    "\n",
    "bus_df = pd.read_sql_query('select * from \"BUSINESSES\"', con=engine)\n",
    "naics_df = pd.read_sql_query('select * from \"NAICS\"', con=engine)\n",
    "states_df = pd.read_sql_query('select * from \"STATES\"', con=engine)\n"
   ]
  },
  {
   "cell_type": "markdown",
   "metadata": {},
   "source": [
    "#### Refine Dataframesto only include relevant columns"
   ]
  },
  {
   "cell_type": "code",
   "execution_count": 99,
   "metadata": {},
   "outputs": [],
   "source": [
    "\n",
    "business_df = bus_df[[ 'STATE DESCRIPTION', 'NAICS CODE', 'ENTERPRISE EMPLOYMENT SIZE 2', 'NUMBER OF FIRMS', 'NUMBER OF ESTABLISHMENTS', 'EMPLOYMENT', 'ANNUAL PAYROLL ($1,000)', 'YEAR']].copy()\n",
    "business_df = business_df.rename(columns = {'ENTERPRISE EMPLOYMENT SIZE 2': 'ENTERPRISE EMPLOYMENT SIZE' })\n",
    "\n",
    "states_df = states_df.rename(columns={'STATE':'STATE DESCRIPTION'})\n",
    "states_df = states_df[[\"STATE DESCRIPTION\",\"STATE CODE\"]]\n"
   ]
  },
  {
   "cell_type": "markdown",
   "metadata": {},
   "source": [
    "#### Convert Payroll column to real value from rounded value"
   ]
  },
  {
   "cell_type": "code",
   "execution_count": 100,
   "metadata": {},
   "outputs": [],
   "source": [
    "\n",
    "business_df['ANNUAL PAYROLL'] = business_df['ANNUAL PAYROLL ($1,000)'] * 1000\n"
   ]
  },
  {
   "cell_type": "markdown",
   "metadata": {},
   "source": [
    "#### Delete Original Payroll Column"
   ]
  },
  {
   "cell_type": "code",
   "execution_count": 101,
   "metadata": {},
   "outputs": [],
   "source": [
    "\n",
    "del business_df['ANNUAL PAYROLL ($1,000)']\n"
   ]
  },
  {
   "cell_type": "markdown",
   "metadata": {},
   "source": [
    "#### Create joins to establish consolidated dataframe"
   ]
  },
  {
   "cell_type": "code",
   "execution_count": 102,
   "metadata": {},
   "outputs": [
    {
     "data": {
      "text/html": [
       "<div>\n",
       "<style scoped>\n",
       "    .dataframe tbody tr th:only-of-type {\n",
       "        vertical-align: middle;\n",
       "    }\n",
       "\n",
       "    .dataframe tbody tr th {\n",
       "        vertical-align: top;\n",
       "    }\n",
       "\n",
       "    .dataframe thead th {\n",
       "        text-align: right;\n",
       "    }\n",
       "</style>\n",
       "<table border=\"1\" class=\"dataframe\">\n",
       "  <thead>\n",
       "    <tr style=\"text-align: right;\">\n",
       "      <th></th>\n",
       "      <th>STATE DESCRIPTION</th>\n",
       "      <th>NAICS CODE</th>\n",
       "      <th>ENTERPRISE EMPLOYMENT SIZE</th>\n",
       "      <th>NUMBER OF FIRMS</th>\n",
       "      <th>NUMBER OF ESTABLISHMENTS</th>\n",
       "      <th>EMPLOYMENT</th>\n",
       "      <th>YEAR</th>\n",
       "      <th>ANNUAL PAYROLL</th>\n",
       "      <th>NAME</th>\n",
       "      <th>STATE CODE</th>\n",
       "    </tr>\n",
       "  </thead>\n",
       "  <tbody>\n",
       "    <tr>\n",
       "      <th>0</th>\n",
       "      <td>Alabama</td>\n",
       "      <td>--</td>\n",
       "      <td>Total</td>\n",
       "      <td>79812</td>\n",
       "      <td>103875</td>\n",
       "      <td>1714692</td>\n",
       "      <td>2008</td>\n",
       "      <td>59827325000</td>\n",
       "      <td>Total</td>\n",
       "      <td>AL</td>\n",
       "    </tr>\n",
       "  </tbody>\n",
       "</table>\n",
       "</div>"
      ],
      "text/plain": [
       "  STATE DESCRIPTION NAICS CODE ENTERPRISE EMPLOYMENT SIZE  NUMBER OF FIRMS  \\\n",
       "0           Alabama         --                      Total            79812   \n",
       "\n",
       "   NUMBER OF ESTABLISHMENTS  EMPLOYMENT  YEAR  ANNUAL PAYROLL   NAME  \\\n",
       "0                    103875     1714692  2008     59827325000  Total   \n",
       "\n",
       "  STATE CODE  \n",
       "0         AL  "
      ]
     },
     "execution_count": 102,
     "metadata": {},
     "output_type": "execute_result"
    }
   ],
   "source": [
    "\n",
    "business_df1 = pd.merge(business_df,naics_df,on='NAICS CODE',how='left')\n",
    "business_df1= pd.merge(business_df1,states_df,on='STATE DESCRIPTION',how='left')\n",
    "business_df1.head(1)\n"
   ]
  },
  {
   "cell_type": "markdown",
   "metadata": {},
   "source": [
    "#### Reorder Dataframe"
   ]
  },
  {
   "cell_type": "code",
<<<<<<< Updated upstream
<<<<<<< Updated upstream
   "execution_count": 14,
=======
   "execution_count": 103,
>>>>>>> Stashed changes
=======
   "execution_count": 103,
>>>>>>> Stashed changes
   "metadata": {},
   "outputs": [
    {
     "data": {
      "text/html": [
       "<div>\n",
       "<style scoped>\n",
       "    .dataframe tbody tr th:only-of-type {\n",
       "        vertical-align: middle;\n",
       "    }\n",
       "\n",
       "    .dataframe tbody tr th {\n",
       "        vertical-align: top;\n",
       "    }\n",
       "\n",
       "    .dataframe thead th {\n",
       "        text-align: right;\n",
       "    }\n",
       "</style>\n",
       "<table border=\"1\" class=\"dataframe\">\n",
       "  <thead>\n",
       "    <tr style=\"text-align: right;\">\n",
       "      <th></th>\n",
       "      <th>YEAR</th>\n",
       "      <th>STATE DESCRIPTION</th>\n",
       "      <th>STATE CODE</th>\n",
       "      <th>NAICS CODE</th>\n",
       "      <th>NAME</th>\n",
       "      <th>ENTERPRISE EMPLOYMENT SIZE</th>\n",
       "      <th>NUMBER OF FIRMS</th>\n",
       "      <th>NUMBER OF ESTABLISHMENTS</th>\n",
       "      <th>EMPLOYMENT</th>\n",
       "      <th>ANNUAL PAYROLL</th>\n",
       "    </tr>\n",
       "  </thead>\n",
       "  <tbody>\n",
       "  </tbody>\n",
       "</table>\n",
       "</div>"
      ],
      "text/plain": [
       "Empty DataFrame\n",
       "Columns: [YEAR, STATE DESCRIPTION, STATE CODE, NAICS CODE, NAME, ENTERPRISE EMPLOYMENT SIZE, NUMBER OF FIRMS, NUMBER OF ESTABLISHMENTS, EMPLOYMENT, ANNUAL PAYROLL]\n",
       "Index: []"
      ]
     },
<<<<<<< Updated upstream
<<<<<<< Updated upstream
     "execution_count": 14,
=======
     "execution_count": 103,
>>>>>>> Stashed changes
=======
     "execution_count": 103,
>>>>>>> Stashed changes
     "metadata": {},
     "output_type": "execute_result"
    }
   ],
   "source": [
    "\n",
    "business_df1 = business_df1[['YEAR','STATE DESCRIPTION', 'STATE CODE', 'NAICS CODE', 'NAME', 'ENTERPRISE EMPLOYMENT SIZE', 'NUMBER OF FIRMS', 'NUMBER OF ESTABLISHMENTS', 'EMPLOYMENT', 'ANNUAL PAYROLL']].copy()\n",
    "business_df1.head(0)\n"
   ]
  },
  {
   "cell_type": "markdown",
   "metadata": {},
   "source": [
<<<<<<< Updated upstream
<<<<<<< Updated upstream
    "### Table with all relavent data and joined state codes to be jsonified"
=======
    "#### Table with all relavent data to be jsonified"
>>>>>>> Stashed changes
=======
    "#### Table with all relavent data to be jsonified"
>>>>>>> Stashed changes
   ]
  },
  {
   "cell_type": "code",
<<<<<<< Updated upstream
<<<<<<< Updated upstream
   "execution_count": 17,
=======
   "execution_count": 104,
>>>>>>> Stashed changes
=======
   "execution_count": 104,
>>>>>>> Stashed changes
   "metadata": {},
   "outputs": [
    {
     "data": {
      "text/html": [
       "<div>\n",
       "<style scoped>\n",
       "    .dataframe tbody tr th:only-of-type {\n",
       "        vertical-align: middle;\n",
       "    }\n",
       "\n",
       "    .dataframe tbody tr th {\n",
       "        vertical-align: top;\n",
       "    }\n",
       "\n",
       "    .dataframe thead th {\n",
       "        text-align: right;\n",
       "    }\n",
       "</style>\n",
       "<table border=\"1\" class=\"dataframe\">\n",
       "  <thead>\n",
       "    <tr style=\"text-align: right;\">\n",
       "      <th></th>\n",
       "      <th>YEAR</th>\n",
       "      <th>STATE_DESCRIPTION</th>\n",
       "      <th>STATE_CODE</th>\n",
       "      <th>NAICS_CODE</th>\n",
       "      <th>NAME</th>\n",
       "      <th>ENTERPRISE_EMPLOYMENT_SIZE</th>\n",
       "      <th>NUMBER_OF_FIRMS</th>\n",
       "      <th>NUMBER_OF_ESTABLISHMENTS</th>\n",
       "      <th>EMPLOYMENT</th>\n",
       "      <th>ANNUAL_PAYROLL</th>\n",
       "    </tr>\n",
       "  </thead>\n",
       "  <tbody>\n",
<<<<<<< Updated upstream
<<<<<<< Updated upstream
       "    <tr>\n",
       "      <th>0</th>\n",
       "      <td>2008</td>\n",
       "      <td>Alabama</td>\n",
       "      <td>11</td>\n",
       "      <td>Agriculture, Forestry, Fishing and Hunting</td>\n",
       "      <td>Total</td>\n",
       "      <td>870</td>\n",
       "      <td>890</td>\n",
       "      <td>6428</td>\n",
       "      <td>208455000</td>\n",
       "      <td>AL</td>\n",
       "    </tr>\n",
       "    <tr>\n",
       "      <th>1</th>\n",
       "      <td>2008</td>\n",
       "      <td>Alabama</td>\n",
       "      <td>11</td>\n",
       "      <td>Agriculture, Forestry, Fishing and Hunting</td>\n",
       "      <td>0-4</td>\n",
       "      <td>433</td>\n",
       "      <td>433</td>\n",
       "      <td>867</td>\n",
       "      <td>25451000</td>\n",
       "      <td>AL</td>\n",
       "    </tr>\n",
       "    <tr>\n",
       "      <th>2</th>\n",
       "      <td>2008</td>\n",
       "      <td>Alabama</td>\n",
       "      <td>11</td>\n",
       "      <td>Agriculture, Forestry, Fishing and Hunting</td>\n",
       "      <td>5-9</td>\n",
       "      <td>259</td>\n",
       "      <td>259</td>\n",
       "      <td>1708</td>\n",
       "      <td>48440000</td>\n",
       "      <td>AL</td>\n",
       "    </tr>\n",
       "    <tr>\n",
       "      <th>3</th>\n",
       "      <td>2008</td>\n",
       "      <td>Alabama</td>\n",
       "      <td>11</td>\n",
       "      <td>Agriculture, Forestry, Fishing and Hunting</td>\n",
       "      <td>10-19</td>\n",
       "      <td>112</td>\n",
       "      <td>112</td>\n",
       "      <td>1468</td>\n",
       "      <td>47620000</td>\n",
       "      <td>AL</td>\n",
       "    </tr>\n",
       "    <tr>\n",
       "      <th>4</th>\n",
       "      <td>2008</td>\n",
       "      <td>Alabama</td>\n",
       "      <td>11</td>\n",
       "      <td>Agriculture, Forestry, Fishing and Hunting</td>\n",
       "      <td>&lt;20</td>\n",
       "      <td>804</td>\n",
       "      <td>804</td>\n",
       "      <td>4043</td>\n",
       "      <td>121511000</td>\n",
       "      <td>AL</td>\n",
       "    </tr>\n",
       "    <tr>\n",
       "      <th>...</th>\n",
       "      <td>...</td>\n",
       "      <td>...</td>\n",
       "      <td>...</td>\n",
       "      <td>...</td>\n",
       "      <td>...</td>\n",
       "      <td>...</td>\n",
       "      <td>...</td>\n",
       "      <td>...</td>\n",
       "      <td>...</td>\n",
       "      <td>...</td>\n",
       "    </tr>\n",
       "    <tr>\n",
       "      <th>9456</th>\n",
=======
       "  </tbody>\n",
       "</table>\n",
       "</div>"
      ],
      "text/plain": [
       "Empty DataFrame\n",
       "Columns: [YEAR, STATE_DESCRIPTION, STATE_CODE, NAICS_CODE, NAME, ENTERPRISE_EMPLOYMENT_SIZE, NUMBER_OF_FIRMS, NUMBER_OF_ESTABLISHMENTS, EMPLOYMENT, ANNUAL_PAYROLL]\n",
       "Index: []"
      ]
     },
     "execution_count": 104,
     "metadata": {},
     "output_type": "execute_result"
    }
   ],
   "source": [
    "\n",
    "table_df = business_df1.rename(columns = {'STATE DESCRIPTION': 'STATE_DESCRIPTION', 'STATE CODE' : 'STATE_CODE', 'NAICS CODE' : 'NAICS_CODE' , 'ENTERPRISE EMPLOYMENT SIZE' : 'ENTERPRISE_EMPLOYMENT_SIZE', 'NUMBER OF FIRMS': 'NUMBER_OF_FIRMS', 'NUMBER OF ESTABLISHMENTS' : 'NUMBER_OF_ESTABLISHMENTS', 'ANNUAL PAYROLL' : 'ANNUAL_PAYROLL' })\n",
    "table_df.head(0)\n"
   ]
  },
  {
   "cell_type": "markdown",
   "metadata": {},
   "source": [
    "#### Create dataframes for json"
   ]
  },
  {
   "cell_type": "code",
   "execution_count": 105,
   "metadata": {},
   "outputs": [
    {
     "data": {
      "text/html": [
       "<div>\n",
       "<style scoped>\n",
       "    .dataframe tbody tr th:only-of-type {\n",
       "        vertical-align: middle;\n",
       "    }\n",
       "\n",
       "    .dataframe tbody tr th {\n",
       "        vertical-align: top;\n",
       "    }\n",
       "\n",
       "    .dataframe thead th {\n",
       "        text-align: right;\n",
       "    }\n",
       "</style>\n",
       "<table border=\"1\" class=\"dataframe\">\n",
       "  <thead>\n",
       "    <tr style=\"text-align: right;\">\n",
       "      <th></th>\n",
       "      <th>STATE_CODE</th>\n",
       "      <th>NAICS_CODE</th>\n",
       "      <th>NAME</th>\n",
       "      <th>EMPLOYMENT</th>\n",
       "      <th>YEAR</th>\n",
       "    </tr>\n",
       "  </thead>\n",
       "  <tbody>\n",
       "    <tr>\n",
       "      <th>0</th>\n",
       "      <td>AL</td>\n",
       "      <td>--</td>\n",
       "      <td>Total</td>\n",
       "      <td>1714692</td>\n",
       "      <td>2008</td>\n",
       "    </tr>\n",
       "    <tr>\n",
       "      <th>1</th>\n",
       "      <td>AL</td>\n",
       "      <td>--</td>\n",
       "      <td>Total</td>\n",
       "      <td>80104</td>\n",
       "      <td>2008</td>\n",
       "    </tr>\n",
       "    <tr>\n",
       "      <th>2</th>\n",
       "      <td>AL</td>\n",
       "      <td>--</td>\n",
       "      <td>Total</td>\n",
       "      <td>100066</td>\n",
>>>>>>> Stashed changes
       "      <td>2008</td>\n",
       "      <td>Wyoming</td>\n",
       "      <td>48-49</td>\n",
       "      <td>Transportation and Warehousing</td>\n",
       "      <td>10-19</td>\n",
       "      <td>59</td>\n",
       "      <td>60</td>\n",
       "      <td>740</td>\n",
       "      <td>30106000</td>\n",
       "      <td>WY</td>\n",
       "    </tr>\n",
       "    <tr>\n",
<<<<<<< Updated upstream
       "      <th>9457</th>\n",
=======
       "      <th>3</th>\n",
       "      <td>AL</td>\n",
       "      <td>--</td>\n",
       "      <td>Total</td>\n",
       "      <td>121129</td>\n",
>>>>>>> Stashed changes
       "      <td>2008</td>\n",
       "      <td>Wyoming</td>\n",
       "      <td>48-49</td>\n",
       "      <td>Transportation and Warehousing</td>\n",
       "      <td>&lt;20</td>\n",
       "      <td>695</td>\n",
       "      <td>697</td>\n",
       "      <td>2281</td>\n",
       "      <td>87567000</td>\n",
       "      <td>WY</td>\n",
       "    </tr>\n",
       "    <tr>\n",
<<<<<<< Updated upstream
       "      <th>10939</th>\n",
       "      <td>2009</td>\n",
       "      <td>District of Columbia</td>\n",
       "      <td>11</td>\n",
       "      <td>Agriculture, Forestry, Fishing and Hunting</td>\n",
       "      <td>Total</td>\n",
       "      <td>2</td>\n",
       "      <td>2</td>\n",
       "      <td>0</td>\n",
       "      <td>0</td>\n",
       "      <td>DC</td>\n",
       "    </tr>\n",
       "    <tr>\n",
       "      <th>11582</th>\n",
       "      <td>2009</td>\n",
       "      <td>Hawaii</td>\n",
       "      <td>99</td>\n",
       "      <td>Industries not classified</td>\n",
       "      <td>Total</td>\n",
       "      <td>54</td>\n",
       "      <td>54</td>\n",
       "      <td>0</td>\n",
       "      <td>981000</td>\n",
       "      <td>HI</td>\n",
       "    </tr>\n",
       "    <tr>\n",
       "      <th>16811</th>\n",
       "      <td>2009</td>\n",
       "      <td>Rhode Island</td>\n",
       "      <td>99</td>\n",
       "      <td>Industries not classified</td>\n",
       "      <td>Total</td>\n",
       "      <td>45</td>\n",
       "      <td>45</td>\n",
       "      <td>42</td>\n",
       "      <td>940000</td>\n",
       "      <td>RI</td>\n",
=======
       "      <th>4</th>\n",
       "      <td>AL</td>\n",
       "      <td>--</td>\n",
       "      <td>Total</td>\n",
       "      <td>301299</td>\n",
       "      <td>2008</td>\n",
>>>>>>> Stashed changes
       "    </tr>\n",
       "  </tbody>\n",
       "</table>\n",
       "<p>5355 rows × 10 columns</p>\n",
       "</div>"
      ],
      "text/plain": [
<<<<<<< Updated upstream
       "       YEAR     STATE DESCRIPTION NAICS CODE  \\\n",
       "0      2008               Alabama         11   \n",
       "1      2008               Alabama         11   \n",
       "2      2008               Alabama         11   \n",
       "3      2008               Alabama         11   \n",
       "4      2008               Alabama         11   \n",
       "...     ...                   ...        ...   \n",
       "9456   2008               Wyoming      48-49   \n",
       "9457   2008               Wyoming      48-49   \n",
       "10939  2009  District of Columbia         11   \n",
       "11582  2009                Hawaii         99   \n",
       "16811  2009          Rhode Island         99   \n",
       "\n",
       "                                             NAME ENTERPRISE EMPLOYMENT SIZE  \\\n",
       "0      Agriculture, Forestry, Fishing and Hunting                      Total   \n",
       "1      Agriculture, Forestry, Fishing and Hunting                        0-4   \n",
       "2      Agriculture, Forestry, Fishing and Hunting                        5-9   \n",
       "3      Agriculture, Forestry, Fishing and Hunting                      10-19   \n",
       "4      Agriculture, Forestry, Fishing and Hunting                        <20   \n",
       "...                                           ...                        ...   \n",
       "9456               Transportation and Warehousing                      10-19   \n",
       "9457               Transportation and Warehousing                        <20   \n",
       "10939  Agriculture, Forestry, Fishing and Hunting                      Total   \n",
       "11582                   Industries not classified                      Total   \n",
       "16811                   Industries not classified                      Total   \n",
       "\n",
       "       NUMBER OF FIRMS  NUMBER OF ESTABLISHMENTS  EMPLOYMENT  ANNUAL PAYROLL  \\\n",
       "0                  870                       890        6428       208455000   \n",
       "1                  433                       433         867        25451000   \n",
       "2                  259                       259        1708        48440000   \n",
       "3                  112                       112        1468        47620000   \n",
       "4                  804                       804        4043       121511000   \n",
       "...                ...                       ...         ...             ...   \n",
       "9456                59                        60         740        30106000   \n",
       "9457               695                       697        2281        87567000   \n",
       "10939                2                         2           0               0   \n",
       "11582               54                        54           0          981000   \n",
       "16811               45                        45          42          940000   \n",
       "\n",
       "      STATE CODE  \n",
       "0             AL  \n",
       "1             AL  \n",
       "2             AL  \n",
       "3             AL  \n",
       "4             AL  \n",
       "...          ...  \n",
       "9456          WY  \n",
       "9457          WY  \n",
       "10939         DC  \n",
       "11582         HI  \n",
       "16811         RI  \n",
       "\n",
       "[5355 rows x 10 columns]"
      ]
     },
     "execution_count": 17,
=======
       "  </tbody>\n",
       "</table>\n",
       "</div>"
      ],
      "text/plain": [
       "Empty DataFrame\n",
       "Columns: [YEAR, STATE_DESCRIPTION, STATE_CODE, NAICS_CODE, NAME, ENTERPRISE_EMPLOYMENT_SIZE, NUMBER_OF_FIRMS, NUMBER_OF_ESTABLISHMENTS, EMPLOYMENT, ANNUAL_PAYROLL]\n",
       "Index: []"
      ]
     },
     "execution_count": 104,
=======
       "  STATE_CODE NAICS_CODE   NAME  EMPLOYMENT  YEAR\n",
       "0         AL         --  Total     1714692  2008\n",
       "1         AL         --  Total       80104  2008\n",
       "2         AL         --  Total      100066  2008\n",
       "3         AL         --  Total      121129  2008\n",
       "4         AL         --  Total      301299  2008"
      ]
     },
     "execution_count": 105,
>>>>>>> Stashed changes
     "metadata": {},
     "output_type": "execute_result"
    }
   ],
   "source": [
<<<<<<< Updated upstream
=======
    "#Bar Chart\n",
    "barChart_df = table_df[['STATE_CODE','NAICS_CODE', 'NAME','EMPLOYMENT','YEAR' ]]\n",
>>>>>>> Stashed changes
    "\n",
    "table_df = business_df1.rename(columns = {'STATE DESCRIPTION': 'STATE_DESCRIPTION', 'STATE CODE' : 'STATE_CODE', 'NAICS CODE' : 'NAICS_CODE' , 'ENTERPRISE EMPLOYMENT SIZE' : 'ENTERPRISE_EMPLOYMENT_SIZE', 'NUMBER OF FIRMS': 'NUMBER_OF_FIRMS', 'NUMBER OF ESTABLISHMENTS' : 'NUMBER_OF_ESTABLISHMENTS', 'ANNUAL PAYROLL' : 'ANNUAL_PAYROLL' })\n",
    "table_df.head(0)\n"
   ]
  },
  {
<<<<<<< Updated upstream
   "cell_type": "markdown",
   "metadata": {},
=======
   "cell_type": "code",
   "execution_count": null,
   "metadata": {},
   "outputs": [],
>>>>>>> Stashed changes
   "source": [
    "#### Create dataframes for json"
   ]
  },
  {
   "cell_type": "code",
<<<<<<< Updated upstream
   "execution_count": 105,
   "metadata": {},
   "outputs": [
    {
     "data": {
      "text/html": [
       "<div>\n",
       "<style scoped>\n",
       "    .dataframe tbody tr th:only-of-type {\n",
       "        vertical-align: middle;\n",
       "    }\n",
       "\n",
       "    .dataframe tbody tr th {\n",
       "        vertical-align: top;\n",
       "    }\n",
       "\n",
       "    .dataframe thead th {\n",
       "        text-align: right;\n",
       "    }\n",
       "</style>\n",
       "<table border=\"1\" class=\"dataframe\">\n",
       "  <thead>\n",
       "    <tr style=\"text-align: right;\">\n",
       "      <th></th>\n",
       "      <th>STATE_CODE</th>\n",
       "      <th>NAICS_CODE</th>\n",
       "      <th>NAME</th>\n",
       "      <th>EMPLOYMENT</th>\n",
       "      <th>YEAR</th>\n",
       "    </tr>\n",
       "  </thead>\n",
       "  <tbody>\n",
       "    <tr>\n",
       "      <th>0</th>\n",
       "      <td>AL</td>\n",
       "      <td>--</td>\n",
       "      <td>Total</td>\n",
       "      <td>1714692</td>\n",
       "      <td>2008</td>\n",
       "    </tr>\n",
       "    <tr>\n",
       "      <th>1</th>\n",
       "      <td>AL</td>\n",
       "      <td>--</td>\n",
       "      <td>Total</td>\n",
       "      <td>80104</td>\n",
       "      <td>2008</td>\n",
       "    </tr>\n",
       "    <tr>\n",
       "      <th>2</th>\n",
       "      <td>AL</td>\n",
       "      <td>--</td>\n",
       "      <td>Total</td>\n",
       "      <td>100066</td>\n",
       "      <td>2008</td>\n",
       "    </tr>\n",
       "    <tr>\n",
       "      <th>3</th>\n",
       "      <td>AL</td>\n",
       "      <td>--</td>\n",
       "      <td>Total</td>\n",
       "      <td>121129</td>\n",
       "      <td>2008</td>\n",
       "    </tr>\n",
       "    <tr>\n",
       "      <th>4</th>\n",
       "      <td>AL</td>\n",
       "      <td>--</td>\n",
       "      <td>Total</td>\n",
       "      <td>301299</td>\n",
       "      <td>2008</td>\n",
       "    </tr>\n",
       "  </tbody>\n",
       "</table>\n",
       "</div>"
      ],
      "text/plain": [
       "  STATE_CODE NAICS_CODE   NAME  EMPLOYMENT  YEAR\n",
       "0         AL         --  Total     1714692  2008\n",
       "1         AL         --  Total       80104  2008\n",
       "2         AL         --  Total      100066  2008\n",
       "3         AL         --  Total      121129  2008\n",
       "4         AL         --  Total      301299  2008"
      ]
     },
     "execution_count": 105,
>>>>>>> Stashed changes
     "metadata": {},
     "output_type": "execute_result"
    }
   ],
<<<<<<< Updated upstream
=======
   "source": [
    "#Bar Chart\n",
    "barChart_df = table_df[['STATE_CODE','NAICS_CODE', 'NAME','EMPLOYMENT','YEAR' ]]\n",
=======
   "execution_count": null,
   "metadata": {},
   "outputs": [],
   "source": [
    "#Scatter Plot\n",
    "scatterPlot_df = table_df[['STATE_CODE','NAICS_CODE', 'NAME','NUMBER_OF_ESTABLISHMENTS','ANNUAL_PAYROLL','EMPLOYMENT','YEAR' ]]\n",
>>>>>>> Stashed changes
    "\n",
    "barChart_df.head()"
   ]
  },
  {
   "cell_type": "code",
   "execution_count": null,
   "metadata": {},
   "outputs": [],
   "source": [
    "barchart_json = barChart_df.to_json(orient=\"split\")\n",
    "parsed = json.loads(barchart_json)\n",
    "json.dumps(parsed,indent=6)"
   ]
  },
  {
   "cell_type": "code",
   "execution_count": null,
   "metadata": {},
   "outputs": [],
   "source": [
<<<<<<< Updated upstream
    "#Scatter Plot\n",
    "scatterPlot_df = table_df[['STATE_CODE','NAICS_CODE', 'NAME','NUMBER_OF_ESTABLISHMENTS','ANNUAL_PAYROLL','EMPLOYMENT','YEAR' ]]\n",
=======
    "# Color Map\n",
    "colorMap_df = table_df[['STATE_CODE','NAICS_CODE', 'NAME','ANNUAL_PAYROLL','EMPLOYMENT','YEAR']]\n",
>>>>>>> Stashed changes
    "\n",
    "scatterPlot_df.head()"
   ]
  },
  {
   "cell_type": "code",
   "execution_count": null,
   "metadata": {},
   "outputs": [],
   "source": [
    "scatterPlot_json = scatterPlot_df.to_json()\n",
    "\n",
    "scatterPlot_json"
   ]
  },
  {
   "cell_type": "code",
   "execution_count": null,
   "metadata": {},
   "outputs": [],
   "source": [
    "# Color Map\n",
    "colorMap_df = table_df[['STATE_CODE','NAICS_CODE', 'NAME','ANNUAL_PAYROLL','EMPLOYMENT','YEAR']]\n",
    "\n",
    "colorMap_df.head()"
   ]
  },
  {
   "cell_type": "code",
   "execution_count": null,
   "metadata": {},
   "outputs": [],
>>>>>>> Stashed changes
   "source": [
    "# Data Table\n",
    "table_df = pd.merge(business_df1, state_codes_df, on=\"STATE DESCRIPTION\",how = \"left\")\n",
    "\n",
    "table_df = table_df.reset_index['STATE CODE']\n",
    "table_df.head()"
   ]
  }
 ],
 "metadata": {
  "kernelspec": {
   "display_name": "Python 3",
   "language": "python",
   "name": "python3"
  },
  "language_info": {
   "codemirror_mode": {
    "name": "ipython",
    "version": 3
   },
   "file_extension": ".py",
   "mimetype": "text/x-python",
   "name": "python",
   "nbconvert_exporter": "python",
   "pygments_lexer": "ipython3",
   "version": "3.7.6"
  }
 },
 "nbformat": 4,
 "nbformat_minor": 4
}
