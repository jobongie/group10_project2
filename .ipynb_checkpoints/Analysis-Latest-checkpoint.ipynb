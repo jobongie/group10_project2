{
 "cells": [
  {
   "cell_type": "markdown",
   "metadata": {},
   "source": [
    "## Import Libraries"
   ]
  },
  {
   "cell_type": "code",
   "execution_count": 25,
   "metadata": {},
   "outputs": [],
   "source": [
    "\n",
    "import os\n",
    "import json\n",
    "import requests\n",
    "import itertools\n",
    "import numpy as np\n",
    "import pandas as pd\n",
    "from pprint import pprint\n",
    "from sqlalchemy.orm import Session\n",
    "from sqlalchemy import create_engine\n"
   ]
  },
  {
   "cell_type": "markdown",
   "metadata": {},
   "source": [
    "## Connect to Postgress SQL DB"
   ]
  },
  {
   "cell_type": "code",
   "execution_count": 96,
   "metadata": {},
   "outputs": [],
   "source": [
    "\n",
    "pg_user = 'postgres'\n",
    "pg_password = 'password'\n",
    "db_name = 'Enterprises'\n",
    "\n",
    "connection_string = f\"{pg_user}:{pg_password}@localhost:5432/{db_name}\"\n",
    "engine = create_engine(f'postgresql://{connection_string}')\n",
    "\n"
   ]
  },
  {
   "cell_type": "markdown",
   "metadata": {},
   "source": [
    "#### Get table Names"
   ]
  },
  {
   "cell_type": "code",
   "execution_count": 97,
   "metadata": {},
   "outputs": [
    {
     "data": {
      "text/plain": [
       "['NAICS', 'BUSINESSES', 'STATES']"
      ]
     },
     "execution_count": 97,
     "metadata": {},
     "output_type": "execute_result"
    }
   ],
   "source": [
    "\n",
    "engine.table_names()\n"
   ]
  },
  {
   "cell_type": "markdown",
   "metadata": {},
   "source": [
    "#### Create dataframes from SQL Query"
   ]
  },
  {
   "cell_type": "code",
   "execution_count": 262,
   "metadata": {},
   "outputs": [],
   "source": [
    "\n",
    "bus_df = pd.read_sql_query('select * from \"BUSINESSES\"', con=engine)\n",
    "naics_df = pd.read_sql_query('select * from \"NAICS\"', con=engine)\n",
    "states_df = pd.read_sql_query('select * from \"STATES\"', con=engine)\n"
   ]
  },
  {
   "cell_type": "markdown",
   "metadata": {},
   "source": [
    "#### Refine Business Dataframe to only rows with employment values (where 'Employment Range Flag' is null)"
   ]
  },
  {
   "cell_type": "code",
   "execution_count": 263,
   "metadata": {},
   "outputs": [],
   "source": [
    "\n",
    "bus_df1 = bus_df[pd.isnull(bus_df['EMPLOYMENT RANGE FLAG'])]\n",
    "bus_df2 = bus_df1.copy()\n"
   ]
  },
  {
   "cell_type": "markdown",
   "metadata": {},
   "source": [
    "#### Refine Business Dataframe to only rows with relevant Enterprise Employment range categories"
   ]
  },
  {
   "cell_type": "code",
   "execution_count": 264,
   "metadata": {},
   "outputs": [],
   "source": [
    "\n",
    "# bus_df['ENTERPRISE EMPLOYMENT SIZE 2'].unique()\n",
    "bus_df2['ENTERPRISE EMPLOYMENT SIZE 2'] = bus_df2['ENTERPRISE EMPLOYMENT SIZE 2'].astype(str).str.strip()\n",
    "\n",
    "good_data = ['0--4','5--9', '10--19', '20--99','100--499','500+']\n",
    "bad_data = ['Total',' <20','<500' ,'<20','<5']\n",
    "\n",
    "bus_df2 = bus_df2.loc[~bus_df2['ENTERPRISE EMPLOYMENT SIZE 2'].isin(bad_data)]\n"
   ]
  },
  {
   "cell_type": "markdown",
   "metadata": {},
   "source": [
    "#### Refine Business Dataframe to only rows with relevant Industry names"
   ]
  },
  {
   "cell_type": "code",
   "execution_count": 265,
   "metadata": {},
   "outputs": [],
   "source": [
    "\n",
    "remove_data = ['Total', 'X']\n",
    "bus_df2 = bus_df2.loc[~bus_df2['NAICS DESCRIPTION'].isin(remove_data)]\n",
    "        "
   ]
  },
  {
   "cell_type": "markdown",
   "metadata": {},
   "source": [
    "#### Create column to classify Enterprise Employment ranges into Small & Large Business categories"
   ]
  },
  {
   "cell_type": "code",
   "execution_count": 266,
   "metadata": {},
   "outputs": [],
   "source": [
    "\n",
    "def classifier(row):\n",
    "    if row[\"ENTERPRISE EMPLOYMENT SIZE 2\"] in ['0--4', '20--99', '10--19', '5--9','100--499']:\n",
    "        return \"Small Business\"\n",
    "    elif row[\"ENTERPRISE EMPLOYMENT SIZE 2\"] == '500+':\n",
    "        return \"Large Business\" \n",
    "    else:\n",
    "        return \"N/A\"\n",
    "    \n",
    "bus_df2[\"BUSINESS_CLASSIFICATION\"] = bus_df2.apply(classifier, axis = 1)\n"
   ]
  },
  {
   "cell_type": "markdown",
   "metadata": {},
   "source": [
    "#### Create 'BC Code' for Concatenated Column for Visualization"
   ]
  },
  {
   "cell_type": "code",
   "execution_count": 267,
   "metadata": {},
   "outputs": [],
   "source": [
    "\n",
    "def bc_code(row):\n",
    "    if row[\"ENTERPRISE EMPLOYMENT SIZE 2\"] in ['0--4', '20--99', '10--19', '5--9','100--499']:\n",
    "        return \"S\"\n",
    "    elif row[\"ENTERPRISE EMPLOYMENT SIZE 2\"] == '500+':\n",
    "        return \"L\" \n",
    "    else:\n",
    "        return \"N/A\"\n",
    "    \n",
    "bus_df2[\"BC_CODE\"] = bus_df2.apply(bc_code, axis = 1)\n"
   ]
  },
  {
   "cell_type": "markdown",
   "metadata": {},
   "source": [
    "#### Create column for color grouping to be used in Bubble Visualization"
   ]
  },
  {
   "cell_type": "code",
   "execution_count": 268,
   "metadata": {},
   "outputs": [],
   "source": [
    "\n",
    "def color_grouping(row):\n",
    "    if row[\"ENTERPRISE EMPLOYMENT SIZE 2\"] in ['0--4', '20--99', '<20', '10--19', '5--9','100--499']:\n",
    "        return 1\n",
    "    elif row[\"ENTERPRISE EMPLOYMENT SIZE 2\"] == '500+':\n",
    "        return 2 \n",
    "    else:\n",
    "        return \"N/A\"\n",
    "\n",
    "bus_df2[\"COLOR_GROUP\"] = bus_df2.apply(color_grouping, axis=1)   \n"
   ]
  },
  {
   "cell_type": "markdown",
   "metadata": {},
   "source": [
    "#### Create column for Sector grouping to be used in Bubble Visualization"
   ]
  },
  {
   "cell_type": "code",
   "execution_count": 269,
   "metadata": {},
   "outputs": [],
   "source": [
    "bus_df2['SECTOR'] = bus_df2[\"BC_CODE\"] + bus_df2['NAICS CODE']"
   ]
  },
  {
   "cell_type": "markdown",
   "metadata": {},
   "source": [
    "#### Convert Payroll column to real value from rounded value"
   ]
  },
  {
   "cell_type": "code",
   "execution_count": 270,
   "metadata": {},
   "outputs": [],
   "source": [
    "bus_df2['ANNUAL PAYROLL'] = bus_df2['ANNUAL PAYROLL ($1,000)'] * 1000"
   ]
  },
  {
   "cell_type": "markdown",
   "metadata": {},
   "source": [
    "#### Refine Business & States Dataframes to only include relevant columns"
   ]
  },
  {
   "cell_type": "code",
   "execution_count": 271,
   "metadata": {},
   "outputs": [],
   "source": [
    "\n",
    "business_df = bus_df2[[ 'STATE DESCRIPTION', 'NAICS CODE', 'ENTERPRISE EMPLOYMENT SIZE 2', 'SECTOR', 'BUSINESS_CLASSIFICATION', 'NUMBER OF FIRMS', 'NUMBER OF ESTABLISHMENTS', 'EMPLOYMENT', 'ANNUAL PAYROLL', 'YEAR', 'COLOR_GROUP']].copy()\n",
    "\n",
    "\n",
    "states_df = states_df.rename(columns={'STATE':'STATE DESCRIPTION'})\n",
    "states_df = states_df[[\"STATE DESCRIPTION\",\"STATE CODE\"]]\n"
   ]
  },
  {
   "cell_type": "markdown",
   "metadata": {},
   "source": [
    "#### Create joins to establish consolidated dataframe"
   ]
  },
  {
   "cell_type": "code",
   "execution_count": 272,
   "metadata": {},
   "outputs": [],
   "source": [
    "\n",
    "business_df1 = pd.merge(business_df,naics_df,on='NAICS CODE',how='left')\n",
    "business_df1= pd.merge(business_df1,states_df,on='STATE DESCRIPTION',how='left')\n"
   ]
  },
  {
   "cell_type": "markdown",
   "metadata": {},
   "source": [
    "#### Reorder Dataframe"
   ]
  },
  {
   "cell_type": "code",
   "execution_count": 273,
   "metadata": {},
   "outputs": [
    {
     "data": {
      "text/html": [
       "<div>\n",
       "<style scoped>\n",
       "    .dataframe tbody tr th:only-of-type {\n",
       "        vertical-align: middle;\n",
       "    }\n",
       "\n",
       "    .dataframe tbody tr th {\n",
       "        vertical-align: top;\n",
       "    }\n",
       "\n",
       "    .dataframe thead th {\n",
       "        text-align: right;\n",
       "    }\n",
       "</style>\n",
       "<table border=\"1\" class=\"dataframe\">\n",
       "  <thead>\n",
       "    <tr style=\"text-align: right;\">\n",
       "      <th></th>\n",
       "      <th>YEAR</th>\n",
       "      <th>STATE DESCRIPTION</th>\n",
       "      <th>STATE CODE</th>\n",
       "      <th>NAICS CODE</th>\n",
       "      <th>NAME</th>\n",
       "      <th>ENTERPRISE EMPLOYMENT SIZE 2</th>\n",
       "      <th>BUSINESS_CLASSIFICATION</th>\n",
       "      <th>SECTOR</th>\n",
       "      <th>NUMBER OF FIRMS</th>\n",
       "      <th>NUMBER OF ESTABLISHMENTS</th>\n",
       "      <th>EMPLOYMENT</th>\n",
       "      <th>ANNUAL PAYROLL</th>\n",
       "      <th>COLOR_GROUP</th>\n",
       "    </tr>\n",
       "  </thead>\n",
       "  <tbody>\n",
       "    <tr>\n",
       "      <th>0</th>\n",
       "      <td>2008</td>\n",
       "      <td>Montana</td>\n",
       "      <td>MT</td>\n",
       "      <td>23</td>\n",
       "      <td>Construction</td>\n",
       "      <td>0--4</td>\n",
       "      <td>Small Business</td>\n",
       "      <td>S23</td>\n",
       "      <td>5905</td>\n",
       "      <td>5913</td>\n",
       "      <td>26822</td>\n",
       "      <td>1046694000</td>\n",
       "      <td>1</td>\n",
       "    </tr>\n",
       "    <tr>\n",
       "      <th>1</th>\n",
       "      <td>2008</td>\n",
       "      <td>Alabama</td>\n",
       "      <td>AL</td>\n",
       "      <td>11</td>\n",
       "      <td>Agriculture, Forestry, Fishing and Hunting</td>\n",
       "      <td>0--4</td>\n",
       "      <td>Small Business</td>\n",
       "      <td>S11</td>\n",
       "      <td>858</td>\n",
       "      <td>864</td>\n",
       "      <td>6077</td>\n",
       "      <td>189340000</td>\n",
       "      <td>1</td>\n",
       "    </tr>\n",
       "    <tr>\n",
       "      <th>2</th>\n",
       "      <td>2008</td>\n",
       "      <td>Alabama</td>\n",
       "      <td>AL</td>\n",
       "      <td>21</td>\n",
       "      <td>Mining, Quarrying, and Oil and Gas Extraction</td>\n",
       "      <td>0--4</td>\n",
       "      <td>Small Business</td>\n",
       "      <td>S21</td>\n",
       "      <td>162</td>\n",
       "      <td>169</td>\n",
       "      <td>2928</td>\n",
       "      <td>149140000</td>\n",
       "      <td>1</td>\n",
       "    </tr>\n",
       "    <tr>\n",
       "      <th>3</th>\n",
       "      <td>2008</td>\n",
       "      <td>Alabama</td>\n",
       "      <td>AL</td>\n",
       "      <td>23</td>\n",
       "      <td>Construction</td>\n",
       "      <td>0--4</td>\n",
       "      <td>Small Business</td>\n",
       "      <td>S23</td>\n",
       "      <td>9668</td>\n",
       "      <td>9696</td>\n",
       "      <td>93263</td>\n",
       "      <td>3430552000</td>\n",
       "      <td>1</td>\n",
       "    </tr>\n",
       "    <tr>\n",
       "      <th>4</th>\n",
       "      <td>2008</td>\n",
       "      <td>Alabama</td>\n",
       "      <td>AL</td>\n",
       "      <td>31-33</td>\n",
       "      <td>Manufacturing</td>\n",
       "      <td>0--4</td>\n",
       "      <td>Small Business</td>\n",
       "      <td>S31-33</td>\n",
       "      <td>3977</td>\n",
       "      <td>4065</td>\n",
       "      <td>94975</td>\n",
       "      <td>3360886000</td>\n",
       "      <td>1</td>\n",
       "    </tr>\n",
       "  </tbody>\n",
       "</table>\n",
       "</div>"
      ],
      "text/plain": [
       "   YEAR STATE DESCRIPTION STATE CODE NAICS CODE  \\\n",
       "0  2008           Montana         MT         23   \n",
       "1  2008           Alabama         AL         11   \n",
       "2  2008           Alabama         AL         21   \n",
       "3  2008           Alabama         AL         23   \n",
       "4  2008           Alabama         AL      31-33   \n",
       "\n",
       "                                            NAME ENTERPRISE EMPLOYMENT SIZE 2  \\\n",
       "0                                   Construction                         0--4   \n",
       "1     Agriculture, Forestry, Fishing and Hunting                         0--4   \n",
       "2  Mining, Quarrying, and Oil and Gas Extraction                         0--4   \n",
       "3                                   Construction                         0--4   \n",
       "4                                  Manufacturing                         0--4   \n",
       "\n",
       "  BUSINESS_CLASSIFICATION  SECTOR  NUMBER OF FIRMS  NUMBER OF ESTABLISHMENTS  \\\n",
       "0          Small Business     S23             5905                      5913   \n",
       "1          Small Business     S11              858                       864   \n",
       "2          Small Business     S21              162                       169   \n",
       "3          Small Business     S23             9668                      9696   \n",
       "4          Small Business  S31-33             3977                      4065   \n",
       "\n",
       "   EMPLOYMENT  ANNUAL PAYROLL  COLOR_GROUP  \n",
       "0       26822      1046694000            1  \n",
       "1        6077       189340000            1  \n",
       "2        2928       149140000            1  \n",
       "3       93263      3430552000            1  \n",
       "4       94975      3360886000            1  "
      ]
     },
     "execution_count": 273,
     "metadata": {},
     "output_type": "execute_result"
    }
   ],
   "source": [
    "\n",
    "business_df1 = business_df1[['YEAR','STATE DESCRIPTION', 'STATE CODE', 'NAICS CODE', 'NAME', 'ENTERPRISE EMPLOYMENT SIZE 2', 'BUSINESS_CLASSIFICATION', 'SECTOR', 'NUMBER OF FIRMS', 'NUMBER OF ESTABLISHMENTS', 'EMPLOYMENT', 'ANNUAL PAYROLL', 'COLOR_GROUP']].copy()\n",
    "business_df1.head(5)\n"
   ]
  },
  {
   "cell_type": "markdown",
   "metadata": {},
   "source": [
    "#### Table with all relavent data"
   ]
  },
  {
   "cell_type": "code",
   "execution_count": 274,
   "metadata": {},
   "outputs": [
    {
     "data": {
      "text/html": [
       "<div>\n",
       "<style scoped>\n",
       "    .dataframe tbody tr th:only-of-type {\n",
       "        vertical-align: middle;\n",
       "    }\n",
       "\n",
       "    .dataframe tbody tr th {\n",
       "        vertical-align: top;\n",
       "    }\n",
       "\n",
       "    .dataframe thead th {\n",
       "        text-align: right;\n",
       "    }\n",
       "</style>\n",
       "<table border=\"1\" class=\"dataframe\">\n",
       "  <thead>\n",
       "    <tr style=\"text-align: right;\">\n",
       "      <th></th>\n",
       "      <th>YEAR</th>\n",
       "      <th>STATE_DESCRIPTION</th>\n",
       "      <th>STATE_CODE</th>\n",
       "      <th>NAICS_CODE</th>\n",
       "      <th>INDUSTRY</th>\n",
       "      <th>ENTERPRISE_EMPLOYMENT_SIZE</th>\n",
       "      <th>BUSINESS_CLASSIFICATION</th>\n",
       "      <th>SECTOR</th>\n",
       "      <th>NUMBER_OF_FIRMS</th>\n",
       "      <th>NUMBER_OF_ESTABLISHMENTS</th>\n",
       "      <th>EMPLOYMENT</th>\n",
       "      <th>ANNUAL_PAYROLL</th>\n",
       "      <th>COLOR_GROUP</th>\n",
       "    </tr>\n",
       "  </thead>\n",
       "  <tbody>\n",
       "    <tr>\n",
       "      <th>0</th>\n",
       "      <td>2008</td>\n",
       "      <td>Montana</td>\n",
       "      <td>MT</td>\n",
       "      <td>23</td>\n",
       "      <td>Construction</td>\n",
       "      <td>0--4</td>\n",
       "      <td>Small Business</td>\n",
       "      <td>S23</td>\n",
       "      <td>5905</td>\n",
       "      <td>5913</td>\n",
       "      <td>26822</td>\n",
       "      <td>1046694000</td>\n",
       "      <td>1</td>\n",
       "    </tr>\n",
       "    <tr>\n",
       "      <th>1</th>\n",
       "      <td>2008</td>\n",
       "      <td>Alabama</td>\n",
       "      <td>AL</td>\n",
       "      <td>11</td>\n",
       "      <td>Agriculture, Forestry, Fishing and Hunting</td>\n",
       "      <td>0--4</td>\n",
       "      <td>Small Business</td>\n",
       "      <td>S11</td>\n",
       "      <td>858</td>\n",
       "      <td>864</td>\n",
       "      <td>6077</td>\n",
       "      <td>189340000</td>\n",
       "      <td>1</td>\n",
       "    </tr>\n",
       "    <tr>\n",
       "      <th>2</th>\n",
       "      <td>2008</td>\n",
       "      <td>Alabama</td>\n",
       "      <td>AL</td>\n",
       "      <td>21</td>\n",
       "      <td>Mining, Quarrying, and Oil and Gas Extraction</td>\n",
       "      <td>0--4</td>\n",
       "      <td>Small Business</td>\n",
       "      <td>S21</td>\n",
       "      <td>162</td>\n",
       "      <td>169</td>\n",
       "      <td>2928</td>\n",
       "      <td>149140000</td>\n",
       "      <td>1</td>\n",
       "    </tr>\n",
       "    <tr>\n",
       "      <th>3</th>\n",
       "      <td>2008</td>\n",
       "      <td>Alabama</td>\n",
       "      <td>AL</td>\n",
       "      <td>23</td>\n",
       "      <td>Construction</td>\n",
       "      <td>0--4</td>\n",
       "      <td>Small Business</td>\n",
       "      <td>S23</td>\n",
       "      <td>9668</td>\n",
       "      <td>9696</td>\n",
       "      <td>93263</td>\n",
       "      <td>3430552000</td>\n",
       "      <td>1</td>\n",
       "    </tr>\n",
       "    <tr>\n",
       "      <th>4</th>\n",
       "      <td>2008</td>\n",
       "      <td>Alabama</td>\n",
       "      <td>AL</td>\n",
       "      <td>31-33</td>\n",
       "      <td>Manufacturing</td>\n",
       "      <td>0--4</td>\n",
       "      <td>Small Business</td>\n",
       "      <td>S31-33</td>\n",
       "      <td>3977</td>\n",
       "      <td>4065</td>\n",
       "      <td>94975</td>\n",
       "      <td>3360886000</td>\n",
       "      <td>1</td>\n",
       "    </tr>\n",
       "  </tbody>\n",
       "</table>\n",
       "</div>"
      ],
      "text/plain": [
       "   YEAR STATE_DESCRIPTION STATE_CODE NAICS_CODE  \\\n",
       "0  2008           Montana         MT         23   \n",
       "1  2008           Alabama         AL         11   \n",
       "2  2008           Alabama         AL         21   \n",
       "3  2008           Alabama         AL         23   \n",
       "4  2008           Alabama         AL      31-33   \n",
       "\n",
       "                                        INDUSTRY ENTERPRISE_EMPLOYMENT_SIZE  \\\n",
       "0                                   Construction                       0--4   \n",
       "1     Agriculture, Forestry, Fishing and Hunting                       0--4   \n",
       "2  Mining, Quarrying, and Oil and Gas Extraction                       0--4   \n",
       "3                                   Construction                       0--4   \n",
       "4                                  Manufacturing                       0--4   \n",
       "\n",
       "  BUSINESS_CLASSIFICATION  SECTOR  NUMBER_OF_FIRMS  NUMBER_OF_ESTABLISHMENTS  \\\n",
       "0          Small Business     S23             5905                      5913   \n",
       "1          Small Business     S11              858                       864   \n",
       "2          Small Business     S21              162                       169   \n",
       "3          Small Business     S23             9668                      9696   \n",
       "4          Small Business  S31-33             3977                      4065   \n",
       "\n",
       "   EMPLOYMENT  ANNUAL_PAYROLL  COLOR_GROUP  \n",
       "0       26822      1046694000            1  \n",
       "1        6077       189340000            1  \n",
       "2        2928       149140000            1  \n",
       "3       93263      3430552000            1  \n",
       "4       94975      3360886000            1  "
      ]
     },
     "execution_count": 274,
     "metadata": {},
     "output_type": "execute_result"
    }
   ],
   "source": [
    "\n",
    "table_df = business_df1.rename(columns = {'NAME': 'INDUSTRY','STATE DESCRIPTION': 'STATE_DESCRIPTION', 'STATE CODE' : 'STATE_CODE', 'NAICS CODE' : 'NAICS_CODE' , 'ENTERPRISE EMPLOYMENT SIZE 2' : 'ENTERPRISE_EMPLOYMENT_SIZE', 'NUMBER OF FIRMS': 'NUMBER_OF_FIRMS', 'NUMBER OF ESTABLISHMENTS' : 'NUMBER_OF_ESTABLISHMENTS', 'ANNUAL PAYROLL' : 'ANNUAL_PAYROLL' })\n",
    "table_df.head(5)\n"
   ]
  },
  {
   "cell_type": "markdown",
   "metadata": {},
   "source": [
    "#### Create data frame for Bubble Visualization"
   ]
  },
  {
   "cell_type": "code",
   "execution_count": 275,
   "metadata": {},
   "outputs": [
    {
     "data": {
      "text/html": [
       "<div>\n",
       "<style scoped>\n",
       "    .dataframe tbody tr th:only-of-type {\n",
       "        vertical-align: middle;\n",
       "    }\n",
       "\n",
       "    .dataframe tbody tr th {\n",
       "        vertical-align: top;\n",
       "    }\n",
       "\n",
       "    .dataframe thead th {\n",
       "        text-align: right;\n",
       "    }\n",
       "</style>\n",
       "<table border=\"1\" class=\"dataframe\">\n",
       "  <thead>\n",
       "    <tr style=\"text-align: right;\">\n",
       "      <th></th>\n",
       "      <th>SECTOR</th>\n",
       "      <th>INDUSTRY</th>\n",
       "      <th>BUSINESS_CLASSIFICATION</th>\n",
       "      <th>EMPLOYMENT</th>\n",
       "      <th>ANNUAL_PAYROLL</th>\n",
       "      <th>YEAR</th>\n",
       "      <th>COLOR_GROUP</th>\n",
       "    </tr>\n",
       "  </thead>\n",
       "  <tbody>\n",
       "    <tr>\n",
       "      <th>0</th>\n",
       "      <td>S23</td>\n",
       "      <td>Construction</td>\n",
       "      <td>Small Business</td>\n",
       "      <td>26822</td>\n",
       "      <td>1046694000</td>\n",
       "      <td>2008</td>\n",
       "      <td>1</td>\n",
       "    </tr>\n",
       "    <tr>\n",
       "      <th>1</th>\n",
       "      <td>S11</td>\n",
       "      <td>Agriculture, Forestry, Fishing and Hunting</td>\n",
       "      <td>Small Business</td>\n",
       "      <td>6077</td>\n",
       "      <td>189340000</td>\n",
       "      <td>2008</td>\n",
       "      <td>1</td>\n",
       "    </tr>\n",
       "    <tr>\n",
       "      <th>2</th>\n",
       "      <td>S21</td>\n",
       "      <td>Mining, Quarrying, and Oil and Gas Extraction</td>\n",
       "      <td>Small Business</td>\n",
       "      <td>2928</td>\n",
       "      <td>149140000</td>\n",
       "      <td>2008</td>\n",
       "      <td>1</td>\n",
       "    </tr>\n",
       "    <tr>\n",
       "      <th>3</th>\n",
       "      <td>S23</td>\n",
       "      <td>Construction</td>\n",
       "      <td>Small Business</td>\n",
       "      <td>93263</td>\n",
       "      <td>3430552000</td>\n",
       "      <td>2008</td>\n",
       "      <td>1</td>\n",
       "    </tr>\n",
       "    <tr>\n",
       "      <th>4</th>\n",
       "      <td>S31-33</td>\n",
       "      <td>Manufacturing</td>\n",
       "      <td>Small Business</td>\n",
       "      <td>94975</td>\n",
       "      <td>3360886000</td>\n",
       "      <td>2008</td>\n",
       "      <td>1</td>\n",
       "    </tr>\n",
       "  </tbody>\n",
       "</table>\n",
       "</div>"
      ],
      "text/plain": [
       "   SECTOR                                       INDUSTRY  \\\n",
       "0     S23                                   Construction   \n",
       "1     S11     Agriculture, Forestry, Fishing and Hunting   \n",
       "2     S21  Mining, Quarrying, and Oil and Gas Extraction   \n",
       "3     S23                                   Construction   \n",
       "4  S31-33                                  Manufacturing   \n",
       "\n",
       "  BUSINESS_CLASSIFICATION  EMPLOYMENT  ANNUAL_PAYROLL  YEAR  COLOR_GROUP  \n",
       "0          Small Business       26822      1046694000  2008            1  \n",
       "1          Small Business        6077       189340000  2008            1  \n",
       "2          Small Business        2928       149140000  2008            1  \n",
       "3          Small Business       93263      3430552000  2008            1  \n",
       "4          Small Business       94975      3360886000  2008            1  "
      ]
     },
     "execution_count": 275,
     "metadata": {},
     "output_type": "execute_result"
    }
   ],
   "source": [
    "\n",
    "bub_df = table_df[['SECTOR', 'INDUSTRY', 'BUSINESS_CLASSIFICATION', 'EMPLOYMENT','ANNUAL_PAYROLL', 'YEAR', 'COLOR_GROUP']].copy()\n",
    "bub_df.head()\n"
   ]
  },
  {
   "cell_type": "code",
   "execution_count": 276,
   "metadata": {},
   "outputs": [
    {
     "data": {
      "text/html": [
       "<div>\n",
       "<style scoped>\n",
       "    .dataframe tbody tr th:only-of-type {\n",
       "        vertical-align: middle;\n",
       "    }\n",
       "\n",
       "    .dataframe tbody tr th {\n",
       "        vertical-align: top;\n",
       "    }\n",
       "\n",
       "    .dataframe thead th {\n",
       "        text-align: right;\n",
       "    }\n",
       "</style>\n",
       "<table border=\"1\" class=\"dataframe\">\n",
       "  <thead>\n",
       "    <tr style=\"text-align: right;\">\n",
       "      <th></th>\n",
       "      <th>SECTOR</th>\n",
       "      <th>INDUSTRY</th>\n",
       "      <th>BUSINESS_CLASSIFICATION</th>\n",
       "      <th>YEAR</th>\n",
       "      <th>COLOR_GROUP</th>\n",
       "      <th>ANNUAL_PAYROLL</th>\n",
       "      <th>EMPLOYMENT</th>\n",
       "    </tr>\n",
       "  </thead>\n",
       "  <tbody>\n",
       "    <tr>\n",
       "      <th>0</th>\n",
       "      <td>L11</td>\n",
       "      <td>Agriculture, Forestry, Fishing and Hunting</td>\n",
       "      <td>Large Business</td>\n",
       "      <td>2008</td>\n",
       "      <td>2</td>\n",
       "      <td>762376000</td>\n",
       "      <td>22397</td>\n",
       "    </tr>\n",
       "    <tr>\n",
       "      <th>1</th>\n",
       "      <td>S62</td>\n",
       "      <td>Health Care and Social Assistance</td>\n",
       "      <td>Small Business</td>\n",
       "      <td>2008</td>\n",
       "      <td>1</td>\n",
       "      <td>614642774000</td>\n",
       "      <td>16421150</td>\n",
       "    </tr>\n",
       "    <tr>\n",
       "      <th>2</th>\n",
       "      <td>S61</td>\n",
       "      <td>Educational Services</td>\n",
       "      <td>Small Business</td>\n",
       "      <td>2008</td>\n",
       "      <td>1</td>\n",
       "      <td>80075492000</td>\n",
       "      <td>2815597</td>\n",
       "    </tr>\n",
       "    <tr>\n",
       "      <th>3</th>\n",
       "      <td>L42</td>\n",
       "      <td>Wholesale Trade</td>\n",
       "      <td>Large Business</td>\n",
       "      <td>2008</td>\n",
       "      <td>2</td>\n",
       "      <td>165901247000</td>\n",
       "      <td>2470501</td>\n",
       "    </tr>\n",
       "    <tr>\n",
       "      <th>4</th>\n",
       "      <td>S56</td>\n",
       "      <td>Administrative and Support and Waste Managemen...</td>\n",
       "      <td>Small Business</td>\n",
       "      <td>2008</td>\n",
       "      <td>1</td>\n",
       "      <td>231193982000</td>\n",
       "      <td>7528779</td>\n",
       "    </tr>\n",
       "  </tbody>\n",
       "</table>\n",
       "</div>"
      ],
      "text/plain": [
       "  SECTOR                                           INDUSTRY  \\\n",
       "0    L11         Agriculture, Forestry, Fishing and Hunting   \n",
       "1    S62                  Health Care and Social Assistance   \n",
       "2    S61                               Educational Services   \n",
       "3    L42                                    Wholesale Trade   \n",
       "4    S56  Administrative and Support and Waste Managemen...   \n",
       "\n",
       "  BUSINESS_CLASSIFICATION  YEAR  COLOR_GROUP  ANNUAL_PAYROLL  EMPLOYMENT  \n",
       "0          Large Business  2008            2       762376000       22397  \n",
       "1          Small Business  2008            1    614642774000    16421150  \n",
       "2          Small Business  2008            1     80075492000     2815597  \n",
       "3          Large Business  2008            2    165901247000     2470501  \n",
       "4          Small Business  2008            1    231193982000     7528779  "
      ]
     },
     "execution_count": 276,
     "metadata": {},
     "output_type": "execute_result"
    }
   ],
   "source": [
    "bubg_df = bub_df.groupby([\"SECTOR\", \"INDUSTRY\", 'BUSINESS_CLASSIFICATION', 'YEAR', 'COLOR_GROUP'])\n",
    "payroll_sum = pd.DataFrame(bubg_df['ANNUAL_PAYROLL'].sum())\n",
    "employment_sum = pd.DataFrame(bubg_df['EMPLOYMENT'].sum())\n",
    "\n",
    "\n",
    "\n",
    "#Create a summary data frame by concatenating the results data frames into one data frame to hold the results\n",
    "bubble_df = pd.concat([payroll_sum,employment_sum],axis=1)\n",
    "\n",
    "#Sort by total purchase count column in descending order \n",
    "bubble_df.sort_values(by='YEAR', inplace=True, ascending = True)\n",
    "\n",
    "#Display summary data frame\n",
    "bubble_df.reset_index(inplace = True)\n",
    "bubble_df.head()"
   ]
  },
  {
   "cell_type": "markdown",
   "metadata": {},
   "source": [
    "#### Create columns to show Average Salary per Employee"
   ]
  },
  {
   "cell_type": "code",
   "execution_count": 277,
   "metadata": {},
   "outputs": [
    {
     "data": {
      "text/html": [
       "<div>\n",
       "<style scoped>\n",
       "    .dataframe tbody tr th:only-of-type {\n",
       "        vertical-align: middle;\n",
       "    }\n",
       "\n",
       "    .dataframe tbody tr th {\n",
       "        vertical-align: top;\n",
       "    }\n",
       "\n",
       "    .dataframe thead th {\n",
       "        text-align: right;\n",
       "    }\n",
       "</style>\n",
       "<table border=\"1\" class=\"dataframe\">\n",
       "  <thead>\n",
       "    <tr style=\"text-align: right;\">\n",
       "      <th></th>\n",
       "      <th>SECTOR</th>\n",
       "      <th>INDUSTRY</th>\n",
       "      <th>BUSINESS_CLASSIFICATION</th>\n",
       "      <th>YEAR</th>\n",
       "      <th>COLOR_GROUP</th>\n",
       "      <th>ANNUAL_PAYROLL</th>\n",
       "      <th>EMPLOYMENT</th>\n",
       "      <th>AVG_SALARY</th>\n",
       "      <th>AVG_SALARY_F</th>\n",
       "    </tr>\n",
       "  </thead>\n",
       "  <tbody>\n",
       "    <tr>\n",
       "      <th>0</th>\n",
       "      <td>L11</td>\n",
       "      <td>Agriculture, Forestry, Fishing and Hunting</td>\n",
       "      <td>Large Business</td>\n",
       "      <td>2008</td>\n",
       "      <td>2</td>\n",
       "      <td>762376000</td>\n",
       "      <td>22397</td>\n",
       "      <td>34039.201679</td>\n",
       "      <td>$34,039</td>\n",
       "    </tr>\n",
       "    <tr>\n",
       "      <th>1</th>\n",
       "      <td>S62</td>\n",
       "      <td>Health Care and Social Assistance</td>\n",
       "      <td>Small Business</td>\n",
       "      <td>2008</td>\n",
       "      <td>1</td>\n",
       "      <td>614642774000</td>\n",
       "      <td>16421150</td>\n",
       "      <td>37429.946989</td>\n",
       "      <td>$37,430</td>\n",
       "    </tr>\n",
       "    <tr>\n",
       "      <th>2</th>\n",
       "      <td>S61</td>\n",
       "      <td>Educational Services</td>\n",
       "      <td>Small Business</td>\n",
       "      <td>2008</td>\n",
       "      <td>1</td>\n",
       "      <td>80075492000</td>\n",
       "      <td>2815597</td>\n",
       "      <td>28439.969214</td>\n",
       "      <td>$28,440</td>\n",
       "    </tr>\n",
       "    <tr>\n",
       "      <th>3</th>\n",
       "      <td>L42</td>\n",
       "      <td>Wholesale Trade</td>\n",
       "      <td>Large Business</td>\n",
       "      <td>2008</td>\n",
       "      <td>2</td>\n",
       "      <td>165901247000</td>\n",
       "      <td>2470501</td>\n",
       "      <td>67152.875874</td>\n",
       "      <td>$67,153</td>\n",
       "    </tr>\n",
       "    <tr>\n",
       "      <th>4</th>\n",
       "      <td>S56</td>\n",
       "      <td>Administrative and Support and Waste Managemen...</td>\n",
       "      <td>Small Business</td>\n",
       "      <td>2008</td>\n",
       "      <td>1</td>\n",
       "      <td>231193982000</td>\n",
       "      <td>7528779</td>\n",
       "      <td>30708.031409</td>\n",
       "      <td>$30,708</td>\n",
       "    </tr>\n",
       "  </tbody>\n",
       "</table>\n",
       "</div>"
      ],
      "text/plain": [
       "  SECTOR                                           INDUSTRY  \\\n",
       "0    L11         Agriculture, Forestry, Fishing and Hunting   \n",
       "1    S62                  Health Care and Social Assistance   \n",
       "2    S61                               Educational Services   \n",
       "3    L42                                    Wholesale Trade   \n",
       "4    S56  Administrative and Support and Waste Managemen...   \n",
       "\n",
       "  BUSINESS_CLASSIFICATION  YEAR  COLOR_GROUP  ANNUAL_PAYROLL  EMPLOYMENT  \\\n",
       "0          Large Business  2008            2       762376000       22397   \n",
       "1          Small Business  2008            1    614642774000    16421150   \n",
       "2          Small Business  2008            1     80075492000     2815597   \n",
       "3          Large Business  2008            2    165901247000     2470501   \n",
       "4          Small Business  2008            1    231193982000     7528779   \n",
       "\n",
       "     AVG_SALARY AVG_SALARY_F  \n",
       "0  34039.201679      $34,039  \n",
       "1  37429.946989      $37,430  \n",
       "2  28439.969214      $28,440  \n",
       "3  67152.875874      $67,153  \n",
       "4  30708.031409      $30,708  "
      ]
     },
     "execution_count": 277,
     "metadata": {},
     "output_type": "execute_result"
    }
   ],
   "source": [
    "bubble_df['AVG_SALARY'] = bubble_df['ANNUAL_PAYROLL'] / bubble_df['EMPLOYMENT']\n",
    "bubble_df['AVG_SALARY_F'] = bubble_df['AVG_SALARY'].astype(float).map(\"${:,.0f}\".format)\n",
    "\n",
    "#Sort by total purchase count column in descending order \n",
    "\n",
    "bubble_df.head()"
   ]
  },
  {
   "cell_type": "markdown",
   "metadata": {},
   "source": [
    "#### Write Dataframes to PostgreSQL DB"
   ]
  },
  {
   "cell_type": "code",
   "execution_count": 282,
   "metadata": {},
   "outputs": [],
   "source": [
    "bubble_df.to_sql(name=\"BUBBLE_SUMMARY\", con=engine, if_exists='replace', index=False)\n",
    "table_df.to_sql(name=\"DATA\", con=engine, if_exists='replace', index=False)"
   ]
  },
  {
   "cell_type": "markdown",
   "metadata": {},
   "source": [
    "#### Export DF's for temporary usage"
   ]
  },
  {
   "cell_type": "code",
   "execution_count": null,
   "metadata": {},
   "outputs": [],
   "source": [
    "\n",
    "# Output file name and path\n",
    "file_path = os.path.join(\".\",\"static\",\"data\",\"table_df.csv\")\n",
    "table_df.to_csv(output_file, index=False, header=True)\n",
    "\n",
    "# Output file name and path\n",
    "file_path = os.path.join(\".\",\"static\",\"data\",\"bubble_df.csv\")\n",
    "bubble_df.to_csv(output_file, index=False, header=True)\n",
    "\n"
   ]
  }
 ],
 "metadata": {
  "kernelspec": {
   "display_name": "Python 3",
   "language": "python",
   "name": "python3"
  },
  "language_info": {
   "codemirror_mode": {
    "name": "ipython",
    "version": 3
   },
   "file_extension": ".py",
   "mimetype": "text/x-python",
   "name": "python",
   "nbconvert_exporter": "python",
   "pygments_lexer": "ipython3",
   "version": "3.7.9"
  }
 },
 "nbformat": 4,
 "nbformat_minor": 4
}
