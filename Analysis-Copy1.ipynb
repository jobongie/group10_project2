{
 "cells": [
  {
   "cell_type": "markdown",
   "metadata": {},
   "source": [
    "## Import Libraries"
   ]
  },
  {
   "cell_type": "code",
   "execution_count": 1,
   "metadata": {},
   "outputs": [],
   "source": [
    "\n",
    "import os\n",
    "import json\n",
    "import requests\n",
    "import itertools\n",
    "import numpy as np\n",
    "import pandas as pd\n",
    "from pprint import pprint\n",
    "from sqlalchemy.orm import Session\n",
    "from sqlalchemy import create_engine\n"
   ]
  },
  {
   "cell_type": "markdown",
   "metadata": {},
   "source": [
    "## Connect to Postgress SQL DB"
   ]
  },
  {
   "cell_type": "code",
   "execution_count": 2,
   "metadata": {},
   "outputs": [],
   "source": [
    "\n",
    "pg_user = 'postgres'\n",
    "pg_password = 'password'\n",
    "db_name = 'Enterprises'\n",
    "\n",
    "connection_string = f\"{pg_user}:{pg_password}@localhost:5432/{db_name}\"\n",
    "engine = create_engine(f'postgresql://{connection_string}')\n",
    "\n"
   ]
  },
  {
   "cell_type": "markdown",
   "metadata": {},
   "source": [
    "#### Get table Names"
   ]
  },
  {
   "cell_type": "code",
   "execution_count": 3,
   "metadata": {},
   "outputs": [
    {
     "data": {
      "text/plain": [
       "['NAICS', 'STATES', 'BUSINESSES']"
      ]
     },
     "execution_count": 3,
     "metadata": {},
     "output_type": "execute_result"
    }
   ],
   "source": [
    "\n",
    "engine.table_names()\n"
   ]
  },
  {
   "cell_type": "markdown",
   "metadata": {},
   "source": [
    "#### Create dataframes from SQL Query"
   ]
  },
  {
   "cell_type": "code",
   "execution_count": 4,
   "metadata": {},
   "outputs": [],
   "source": [
    "\n",
    "bus_df = pd.read_sql_query('select * from \"BUSINESSES\"', con=engine)\n",
    "naics_df = pd.read_sql_query('select * from \"NAICS\"', con=engine)\n",
    "states_df = pd.read_sql_query('select * from \"STATES\"', con=engine)\n"
   ]
  },
  {
   "cell_type": "markdown",
   "metadata": {},
   "source": [
    "#### Refine Dataframesto only include relevant columns"
   ]
  },
  {
   "cell_type": "code",
   "execution_count": 5,
   "metadata": {},
   "outputs": [],
   "source": [
    "\n",
    "business_df = bus_df[[ 'STATE DESCRIPTION', 'NAICS CODE', 'ENTERPRISE EMPLOYMENT SIZE 2', 'NUMBER OF FIRMS', 'NUMBER OF ESTABLISHMENTS', 'EMPLOYMENT', 'ANNUAL PAYROLL ($1,000)', 'YEAR']].copy()\n",
    "business_df = business_df.rename(columns = {'ENTERPRISE EMPLOYMENT SIZE 2': 'ENTERPRISE EMPLOYMENT SIZE' })\n",
    "\n",
    "states_df = states_df.rename(columns={'STATE':'STATE DESCRIPTION'})\n",
    "states_df = states_df[[\"STATE DESCRIPTION\",\"STATE CODE\"]]\n"
   ]
  },
  {
   "cell_type": "markdown",
   "metadata": {},
   "source": [
    "#### Convert Payroll column to real value from rounded value"
   ]
  },
  {
   "cell_type": "code",
   "execution_count": 6,
   "metadata": {},
   "outputs": [],
   "source": [
    "\n",
    "business_df['ANNUAL PAYROLL'] = business_df['ANNUAL PAYROLL ($1,000)'] * 1000\n"
   ]
  },
  {
   "cell_type": "markdown",
   "metadata": {},
   "source": [
    "#### Delete Original Payroll Column"
   ]
  },
  {
   "cell_type": "code",
   "execution_count": 7,
   "metadata": {},
   "outputs": [],
   "source": [
    "\n",
    "del business_df['ANNUAL PAYROLL ($1,000)']\n"
   ]
  },
  {
   "cell_type": "markdown",
   "metadata": {},
   "source": [
    "#### Create joins to establish consolidated dataframe"
   ]
  },
  {
   "cell_type": "code",
   "execution_count": 8,
   "metadata": {},
   "outputs": [
    {
     "data": {
      "text/html": [
       "<div>\n",
       "<style scoped>\n",
       "    .dataframe tbody tr th:only-of-type {\n",
       "        vertical-align: middle;\n",
       "    }\n",
       "\n",
       "    .dataframe tbody tr th {\n",
       "        vertical-align: top;\n",
       "    }\n",
       "\n",
       "    .dataframe thead th {\n",
       "        text-align: right;\n",
       "    }\n",
       "</style>\n",
       "<table border=\"1\" class=\"dataframe\">\n",
       "  <thead>\n",
       "    <tr style=\"text-align: right;\">\n",
       "      <th></th>\n",
       "      <th>STATE DESCRIPTION</th>\n",
       "      <th>NAICS CODE</th>\n",
       "      <th>ENTERPRISE EMPLOYMENT SIZE</th>\n",
       "      <th>NUMBER OF FIRMS</th>\n",
       "      <th>NUMBER OF ESTABLISHMENTS</th>\n",
       "      <th>EMPLOYMENT</th>\n",
       "      <th>YEAR</th>\n",
       "      <th>ANNUAL PAYROLL</th>\n",
       "      <th>NAME</th>\n",
       "      <th>STATE CODE</th>\n",
       "    </tr>\n",
       "  </thead>\n",
       "  <tbody>\n",
       "    <tr>\n",
       "      <th>0</th>\n",
       "      <td>Alabama</td>\n",
       "      <td>--</td>\n",
       "      <td>Total</td>\n",
       "      <td>79812</td>\n",
       "      <td>103875</td>\n",
       "      <td>1714692</td>\n",
       "      <td>2008</td>\n",
       "      <td>59827325000</td>\n",
       "      <td>Total</td>\n",
       "      <td>AL</td>\n",
       "    </tr>\n",
       "    <tr>\n",
       "      <th>1</th>\n",
       "      <td>Alabama</td>\n",
       "      <td>--</td>\n",
       "      <td>0-4</td>\n",
       "      <td>43194</td>\n",
       "      <td>43259</td>\n",
       "      <td>80104</td>\n",
       "      <td>2008</td>\n",
       "      <td>2419258000</td>\n",
       "      <td>Total</td>\n",
       "      <td>AL</td>\n",
       "    </tr>\n",
       "    <tr>\n",
       "      <th>2</th>\n",
       "      <td>Alabama</td>\n",
       "      <td>--</td>\n",
       "      <td>5-9</td>\n",
       "      <td>15160</td>\n",
       "      <td>15349</td>\n",
       "      <td>100066</td>\n",
       "      <td>2008</td>\n",
       "      <td>2791861000</td>\n",
       "      <td>Total</td>\n",
       "      <td>AL</td>\n",
       "    </tr>\n",
       "    <tr>\n",
       "      <th>3</th>\n",
       "      <td>Alabama</td>\n",
       "      <td>--</td>\n",
       "      <td>10-19</td>\n",
       "      <td>9107</td>\n",
       "      <td>9588</td>\n",
       "      <td>121129</td>\n",
       "      <td>2008</td>\n",
       "      <td>3623405000</td>\n",
       "      <td>Total</td>\n",
       "      <td>AL</td>\n",
       "    </tr>\n",
       "    <tr>\n",
       "      <th>4</th>\n",
       "      <td>Alabama</td>\n",
       "      <td>--</td>\n",
       "      <td>&lt;20</td>\n",
       "      <td>67461</td>\n",
       "      <td>68196</td>\n",
       "      <td>301299</td>\n",
       "      <td>2008</td>\n",
       "      <td>8834524000</td>\n",
       "      <td>Total</td>\n",
       "      <td>AL</td>\n",
       "    </tr>\n",
       "  </tbody>\n",
       "</table>\n",
       "</div>"
      ],
      "text/plain": [
       "  STATE DESCRIPTION NAICS CODE ENTERPRISE EMPLOYMENT SIZE  NUMBER OF FIRMS  \\\n",
       "0           Alabama         --                      Total            79812   \n",
       "1           Alabama         --                        0-4            43194   \n",
       "2           Alabama         --                        5-9            15160   \n",
       "3           Alabama         --                      10-19             9107   \n",
       "4           Alabama         --                        <20            67461   \n",
       "\n",
       "   NUMBER OF ESTABLISHMENTS  EMPLOYMENT  YEAR  ANNUAL PAYROLL   NAME  \\\n",
       "0                    103875     1714692  2008     59827325000  Total   \n",
       "1                     43259       80104  2008      2419258000  Total   \n",
       "2                     15349      100066  2008      2791861000  Total   \n",
       "3                      9588      121129  2008      3623405000  Total   \n",
       "4                     68196      301299  2008      8834524000  Total   \n",
       "\n",
       "  STATE CODE  \n",
       "0         AL  \n",
       "1         AL  \n",
       "2         AL  \n",
       "3         AL  \n",
       "4         AL  "
      ]
     },
     "execution_count": 8,
     "metadata": {},
     "output_type": "execute_result"
    }
   ],
   "source": [
    "\n",
    "business_df1 = pd.merge(business_df,naics_df,on='NAICS CODE',how='left')\n",
    "business_df1= pd.merge(business_df1,states_df,on='STATE DESCRIPTION',how='left')\n",
    "business_df1.head()\n"
   ]
  },
  {
   "cell_type": "markdown",
   "metadata": {},
   "source": [
    "#### Reorder Dataframe"
   ]
  },
  {
   "cell_type": "code",
   "execution_count": 9,
   "metadata": {},
   "outputs": [
    {
     "data": {
      "text/html": [
       "<div>\n",
       "<style scoped>\n",
       "    .dataframe tbody tr th:only-of-type {\n",
       "        vertical-align: middle;\n",
       "    }\n",
       "\n",
       "    .dataframe tbody tr th {\n",
       "        vertical-align: top;\n",
       "    }\n",
       "\n",
       "    .dataframe thead th {\n",
       "        text-align: right;\n",
       "    }\n",
       "</style>\n",
       "<table border=\"1\" class=\"dataframe\">\n",
       "  <thead>\n",
       "    <tr style=\"text-align: right;\">\n",
       "      <th></th>\n",
       "      <th>YEAR</th>\n",
       "      <th>STATE DESCRIPTION</th>\n",
       "      <th>STATE CODE</th>\n",
       "      <th>NAICS CODE</th>\n",
       "      <th>NAME</th>\n",
       "      <th>ENTERPRISE EMPLOYMENT SIZE</th>\n",
       "      <th>NUMBER OF FIRMS</th>\n",
       "      <th>NUMBER OF ESTABLISHMENTS</th>\n",
       "      <th>EMPLOYMENT</th>\n",
       "      <th>ANNUAL PAYROLL</th>\n",
       "    </tr>\n",
       "  </thead>\n",
       "  <tbody>\n",
       "    <tr>\n",
       "      <th>0</th>\n",
       "      <td>2008</td>\n",
       "      <td>Alabama</td>\n",
       "      <td>AL</td>\n",
       "      <td>--</td>\n",
       "      <td>Total</td>\n",
       "      <td>Total</td>\n",
       "      <td>79812</td>\n",
       "      <td>103875</td>\n",
       "      <td>1714692</td>\n",
       "      <td>59827325000</td>\n",
       "    </tr>\n",
       "    <tr>\n",
       "      <th>1</th>\n",
       "      <td>2008</td>\n",
       "      <td>Alabama</td>\n",
       "      <td>AL</td>\n",
       "      <td>--</td>\n",
       "      <td>Total</td>\n",
       "      <td>0-4</td>\n",
       "      <td>43194</td>\n",
       "      <td>43259</td>\n",
       "      <td>80104</td>\n",
       "      <td>2419258000</td>\n",
       "    </tr>\n",
       "    <tr>\n",
       "      <th>2</th>\n",
       "      <td>2008</td>\n",
       "      <td>Alabama</td>\n",
       "      <td>AL</td>\n",
       "      <td>--</td>\n",
       "      <td>Total</td>\n",
       "      <td>5-9</td>\n",
       "      <td>15160</td>\n",
       "      <td>15349</td>\n",
       "      <td>100066</td>\n",
       "      <td>2791861000</td>\n",
       "    </tr>\n",
       "    <tr>\n",
       "      <th>3</th>\n",
       "      <td>2008</td>\n",
       "      <td>Alabama</td>\n",
       "      <td>AL</td>\n",
       "      <td>--</td>\n",
       "      <td>Total</td>\n",
       "      <td>10-19</td>\n",
       "      <td>9107</td>\n",
       "      <td>9588</td>\n",
       "      <td>121129</td>\n",
       "      <td>3623405000</td>\n",
       "    </tr>\n",
       "    <tr>\n",
       "      <th>4</th>\n",
       "      <td>2008</td>\n",
       "      <td>Alabama</td>\n",
       "      <td>AL</td>\n",
       "      <td>--</td>\n",
       "      <td>Total</td>\n",
       "      <td>&lt;20</td>\n",
       "      <td>67461</td>\n",
       "      <td>68196</td>\n",
       "      <td>301299</td>\n",
       "      <td>8834524000</td>\n",
       "    </tr>\n",
       "  </tbody>\n",
       "</table>\n",
       "</div>"
      ],
      "text/plain": [
       "   YEAR STATE DESCRIPTION STATE CODE NAICS CODE   NAME  \\\n",
       "0  2008           Alabama         AL         --  Total   \n",
       "1  2008           Alabama         AL         --  Total   \n",
       "2  2008           Alabama         AL         --  Total   \n",
       "3  2008           Alabama         AL         --  Total   \n",
       "4  2008           Alabama         AL         --  Total   \n",
       "\n",
       "  ENTERPRISE EMPLOYMENT SIZE  NUMBER OF FIRMS  NUMBER OF ESTABLISHMENTS  \\\n",
       "0                      Total            79812                    103875   \n",
       "1                        0-4            43194                     43259   \n",
       "2                        5-9            15160                     15349   \n",
       "3                      10-19             9107                      9588   \n",
       "4                        <20            67461                     68196   \n",
       "\n",
       "   EMPLOYMENT  ANNUAL PAYROLL  \n",
       "0     1714692     59827325000  \n",
       "1       80104      2419258000  \n",
       "2      100066      2791861000  \n",
       "3      121129      3623405000  \n",
       "4      301299      8834524000  "
      ]
     },
     "execution_count": 9,
     "metadata": {},
     "output_type": "execute_result"
    }
   ],
   "source": [
    "\n",
    "business_df1 = business_df1[['YEAR','STATE DESCRIPTION', 'STATE CODE', 'NAICS CODE', 'NAME', 'ENTERPRISE EMPLOYMENT SIZE', 'NUMBER OF FIRMS', 'NUMBER OF ESTABLISHMENTS', 'EMPLOYMENT', 'ANNUAL PAYROLL']].copy()\n",
    "business_df1.head()\n"
   ]
  },
  {
   "cell_type": "markdown",
   "metadata": {},
   "source": [
    "#### Table with all relavent data to be jsonified"
   ]
  },
  {
   "cell_type": "code",
   "execution_count": 10,
   "metadata": {},
   "outputs": [
    {
     "data": {
      "text/html": [
       "<div>\n",
       "<style scoped>\n",
       "    .dataframe tbody tr th:only-of-type {\n",
       "        vertical-align: middle;\n",
       "    }\n",
       "\n",
       "    .dataframe tbody tr th {\n",
       "        vertical-align: top;\n",
       "    }\n",
       "\n",
       "    .dataframe thead th {\n",
       "        text-align: right;\n",
       "    }\n",
       "</style>\n",
       "<table border=\"1\" class=\"dataframe\">\n",
       "  <thead>\n",
       "    <tr style=\"text-align: right;\">\n",
       "      <th></th>\n",
       "      <th>YEAR</th>\n",
       "      <th>STATE_DESCRIPTION</th>\n",
       "      <th>STATE_CODE</th>\n",
       "      <th>NAICS_CODE</th>\n",
       "      <th>NAME</th>\n",
       "      <th>ENTERPRISE_EMPLOYMENT_SIZE</th>\n",
       "      <th>NUMBER_OF_FIRMS</th>\n",
       "      <th>NUMBER_OF_ESTABLISHMENTS</th>\n",
       "      <th>EMPLOYMENT</th>\n",
       "      <th>ANNUAL_PAYROLL</th>\n",
       "    </tr>\n",
       "  </thead>\n",
       "  <tbody>\n",
       "    <tr>\n",
       "      <th>0</th>\n",
       "      <td>2008</td>\n",
       "      <td>Alabama</td>\n",
       "      <td>AL</td>\n",
       "      <td>--</td>\n",
       "      <td>Total</td>\n",
       "      <td>Total</td>\n",
       "      <td>79812</td>\n",
       "      <td>103875</td>\n",
       "      <td>1714692</td>\n",
       "      <td>59827325000</td>\n",
       "    </tr>\n",
       "    <tr>\n",
       "      <th>1</th>\n",
       "      <td>2008</td>\n",
       "      <td>Alabama</td>\n",
       "      <td>AL</td>\n",
       "      <td>--</td>\n",
       "      <td>Total</td>\n",
       "      <td>0-4</td>\n",
       "      <td>43194</td>\n",
       "      <td>43259</td>\n",
       "      <td>80104</td>\n",
       "      <td>2419258000</td>\n",
       "    </tr>\n",
       "    <tr>\n",
       "      <th>2</th>\n",
       "      <td>2008</td>\n",
       "      <td>Alabama</td>\n",
       "      <td>AL</td>\n",
       "      <td>--</td>\n",
       "      <td>Total</td>\n",
       "      <td>5-9</td>\n",
       "      <td>15160</td>\n",
       "      <td>15349</td>\n",
       "      <td>100066</td>\n",
       "      <td>2791861000</td>\n",
       "    </tr>\n",
       "    <tr>\n",
       "      <th>3</th>\n",
       "      <td>2008</td>\n",
       "      <td>Alabama</td>\n",
       "      <td>AL</td>\n",
       "      <td>--</td>\n",
       "      <td>Total</td>\n",
       "      <td>10-19</td>\n",
       "      <td>9107</td>\n",
       "      <td>9588</td>\n",
       "      <td>121129</td>\n",
       "      <td>3623405000</td>\n",
       "    </tr>\n",
       "    <tr>\n",
       "      <th>4</th>\n",
       "      <td>2008</td>\n",
       "      <td>Alabama</td>\n",
       "      <td>AL</td>\n",
       "      <td>--</td>\n",
       "      <td>Total</td>\n",
       "      <td>&lt;20</td>\n",
       "      <td>67461</td>\n",
       "      <td>68196</td>\n",
       "      <td>301299</td>\n",
       "      <td>8834524000</td>\n",
       "    </tr>\n",
       "  </tbody>\n",
       "</table>\n",
       "</div>"
      ],
      "text/plain": [
       "   YEAR STATE_DESCRIPTION STATE_CODE NAICS_CODE   NAME  \\\n",
       "0  2008           Alabama         AL         --  Total   \n",
       "1  2008           Alabama         AL         --  Total   \n",
       "2  2008           Alabama         AL         --  Total   \n",
       "3  2008           Alabama         AL         --  Total   \n",
       "4  2008           Alabama         AL         --  Total   \n",
       "\n",
       "  ENTERPRISE_EMPLOYMENT_SIZE  NUMBER_OF_FIRMS  NUMBER_OF_ESTABLISHMENTS  \\\n",
       "0                      Total            79812                    103875   \n",
       "1                        0-4            43194                     43259   \n",
       "2                        5-9            15160                     15349   \n",
       "3                      10-19             9107                      9588   \n",
       "4                        <20            67461                     68196   \n",
       "\n",
       "   EMPLOYMENT  ANNUAL_PAYROLL  \n",
       "0     1714692     59827325000  \n",
       "1       80104      2419258000  \n",
       "2      100066      2791861000  \n",
       "3      121129      3623405000  \n",
       "4      301299      8834524000  "
      ]
     },
     "execution_count": 10,
     "metadata": {},
     "output_type": "execute_result"
    }
   ],
   "source": [
    "\n",
    "table_df = business_df1.rename(columns = {'STATE DESCRIPTION': 'STATE_DESCRIPTION', 'STATE CODE' : 'STATE_CODE', 'NAICS CODE' : 'NAICS_CODE' , 'ENTERPRISE EMPLOYMENT SIZE' : 'ENTERPRISE_EMPLOYMENT_SIZE', 'NUMBER OF FIRMS': 'NUMBER_OF_FIRMS', 'NUMBER OF ESTABLISHMENTS' : 'NUMBER_OF_ESTABLISHMENTS', 'ANNUAL PAYROLL' : 'ANNUAL_PAYROLL' })\n",
    "table_df.head()\n"
   ]
  },
  {
   "cell_type": "code",
   "execution_count": 11,
   "metadata": {},
   "outputs": [
    {
     "data": {
      "text/plain": [
       "array([' Total', ' 0-4', ' 5-9', ' 10-19', ' <20', ' 20-99', ' 100-499',\n",
       "       ' <500', ' 500+', '<500', '500+', '0-4', '5-9', '10-19', '<20',\n",
       "       '20-99', '100-499', 'Total', '<5'], dtype=object)"
      ]
     },
     "execution_count": 11,
     "metadata": {},
     "output_type": "execute_result"
    }
   ],
   "source": [
    "\n",
    "table_df['ENTERPRISE_EMPLOYMENT_SIZE'].unique()\n"
   ]
  },
  {
   "cell_type": "code",
   "execution_count": 12,
   "metadata": {},
   "outputs": [],
   "source": [
    "\n",
    "table_df['ENTERPRISE_EMPLOYMENT_SIZE'].unique()\n",
    "\n",
    "good_data = ['0-4','5-9', '10-19', '20-99','100-499','500+']\n",
    "\n",
    "bad_data = ['Total',' <20','<500' ,'<20','<5']\n",
    "\n",
    "table_df['ENTERPRISE_EMPLOYMENT_SIZE'] = table_df['ENTERPRISE_EMPLOYMENT_SIZE'].astype(str).str.strip()\n"
   ]
  },
  {
   "cell_type": "code",
   "execution_count": 13,
   "metadata": {},
   "outputs": [],
   "source": [
    "\n",
    "table_df = table_df.loc[~table_df['ENTERPRISE_EMPLOYMENT_SIZE'].isin(bad_data)]\n"
   ]
  },
  {
   "cell_type": "code",
   "execution_count": 14,
   "metadata": {},
   "outputs": [
    {
     "data": {
      "text/plain": [
       "array(['0-4', '5-9', '10-19', '20-99', '100-499', '500+'], dtype=object)"
      ]
     },
     "execution_count": 14,
     "metadata": {},
     "output_type": "execute_result"
    }
   ],
   "source": [
    "\n",
    "table_df['ENTERPRISE_EMPLOYMENT_SIZE'].unique()\n"
   ]
  },
  {
   "cell_type": "code",
   "execution_count": 15,
   "metadata": {},
   "outputs": [],
   "source": [
    "\n",
    "#Export to csv\n",
    "output_file = os.path.join(\"static\",\"data\",\"table_df.csv\")\n",
    "table_df.to_csv(output_file, index=False, header=True)\n"
   ]
  },
  {
   "cell_type": "code",
   "execution_count": null,
   "metadata": {},
   "outputs": [],
   "source": [
    "\n",
    "\n"
   ]
  },
  {
   "cell_type": "code",
   "execution_count": null,
   "metadata": {},
   "outputs": [],
   "source": []
  },
  {
   "cell_type": "code",
   "execution_count": null,
   "metadata": {},
   "outputs": [],
   "source": []
  }
 ],
 "metadata": {
  "kernelspec": {
   "display_name": "Python 3",
   "language": "python",
   "name": "python3"
  },
  "language_info": {
   "codemirror_mode": {
    "name": "ipython",
    "version": 3
   },
   "file_extension": ".py",
   "mimetype": "text/x-python",
   "name": "python",
   "nbconvert_exporter": "python",
   "pygments_lexer": "ipython3",
   "version": "3.7.9"
  }
 },
 "nbformat": 4,
 "nbformat_minor": 4
}
