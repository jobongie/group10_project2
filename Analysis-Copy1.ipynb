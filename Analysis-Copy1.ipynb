{
 "cells": [
  {
   "cell_type": "markdown",
   "metadata": {},
   "source": [
    "## Import Libraries"
   ]
  },
  {
   "cell_type": "code",
   "execution_count": 21,
   "metadata": {},
   "outputs": [],
   "source": [
    "\n",
    "import os\n",
    "import json\n",
    "import requests\n",
    "import itertools\n",
    "import numpy as np\n",
    "import pandas as pd\n",
    "from pprint import pprint\n",
    "from sqlalchemy.orm import Session\n",
    "from sqlalchemy import create_engine\n"
   ]
  },
  {
   "cell_type": "markdown",
   "metadata": {},
   "source": [
    "## Connect to Postgress SQL DB"
   ]
  },
  {
   "cell_type": "code",
   "execution_count": 22,
   "metadata": {},
   "outputs": [],
   "source": [
    "\n",
    "pg_user = 'postgres'\n",
    "pg_password = 'mobo0056'\n",
    "db_name = 'Enterprises'\n",
    "\n",
    "connection_string = f\"{pg_user}:{pg_password}@localhost:5432/{db_name}\"\n",
    "engine = create_engine(f'postgresql://{connection_string}')\n",
    "\n"
   ]
  },
  {
   "cell_type": "markdown",
   "metadata": {},
   "source": [
    "#### Get table Names"
   ]
  },
  {
   "cell_type": "code",
   "execution_count": 23,
   "metadata": {},
   "outputs": [
    {
     "data": {
      "text/plain": [
       "['NAICS', 'BUSINESSES', 'STATES']"
      ]
     },
     "execution_count": 23,
     "metadata": {},
     "output_type": "execute_result"
    }
   ],
   "source": [
    "\n",
    "engine.table_names()\n"
   ]
  },
  {
   "cell_type": "markdown",
   "metadata": {},
   "source": [
    "#### Create dataframes from SQL Query"
   ]
  },
  {
   "cell_type": "code",
   "execution_count": 24,
   "metadata": {},
   "outputs": [],
   "source": [
    "\n",
    "bus_df = pd.read_sql_query('select * from \"BUSINESSES\"', con=engine)\n",
    "naics_df = pd.read_sql_query('select * from \"NAICS\"', con=engine)\n",
    "states_df = pd.read_sql_query('select * from \"STATES\"', con=engine)\n"
   ]
  },
  {
   "cell_type": "markdown",
   "metadata": {},
   "source": [
    "#### Refine Dataframesto only include relevant columns"
   ]
  },
  {
   "cell_type": "code",
   "execution_count": 25,
   "metadata": {},
   "outputs": [],
   "source": [
    "\n",
    "business_df = bus_df[[ 'STATE DESCRIPTION', 'NAICS CODE', 'ENTERPRISE EMPLOYMENT SIZE 2', 'NUMBER OF FIRMS', 'NUMBER OF ESTABLISHMENTS', 'EMPLOYMENT', 'ANNUAL PAYROLL ($1,000)', 'YEAR']].copy()\n",
    "business_df = business_df.rename(columns = {'ENTERPRISE EMPLOYMENT SIZE 2': 'ENTERPRISE EMPLOYMENT SIZE' })\n",
    "\n",
    "states_df = states_df.rename(columns={'STATE':'STATE DESCRIPTION'})\n",
    "states_df = states_df[[\"STATE DESCRIPTION\",\"STATE CODE\"]]\n"
   ]
  },
  {
   "cell_type": "markdown",
   "metadata": {},
   "source": [
    "#### Convert Payroll column to real value from rounded value"
   ]
  },
  {
   "cell_type": "code",
   "execution_count": 26,
   "metadata": {},
   "outputs": [],
   "source": [
    "\n",
    "business_df['ANNUAL PAYROLL'] = business_df['ANNUAL PAYROLL ($1,000)'] * 1000\n"
   ]
  },
  {
   "cell_type": "markdown",
   "metadata": {},
   "source": [
    "#### Delete Original Payroll Column"
   ]
  },
  {
   "cell_type": "code",
   "execution_count": 27,
   "metadata": {},
   "outputs": [],
   "source": [
    "\n",
    "del business_df['ANNUAL PAYROLL ($1,000)']\n"
   ]
  },
  {
   "cell_type": "markdown",
   "metadata": {},
   "source": [
    "#### Create joins to establish consolidated dataframe"
   ]
  },
  {
   "cell_type": "code",
   "execution_count": 28,
   "metadata": {},
   "outputs": [
    {
     "data": {
      "text/html": [
       "<div>\n",
       "<style scoped>\n",
       "    .dataframe tbody tr th:only-of-type {\n",
       "        vertical-align: middle;\n",
       "    }\n",
       "\n",
       "    .dataframe tbody tr th {\n",
       "        vertical-align: top;\n",
       "    }\n",
       "\n",
       "    .dataframe thead th {\n",
       "        text-align: right;\n",
       "    }\n",
       "</style>\n",
       "<table border=\"1\" class=\"dataframe\">\n",
       "  <thead>\n",
       "    <tr style=\"text-align: right;\">\n",
       "      <th></th>\n",
       "      <th>STATE DESCRIPTION</th>\n",
       "      <th>NAICS CODE</th>\n",
       "      <th>ENTERPRISE EMPLOYMENT SIZE</th>\n",
       "      <th>NUMBER OF FIRMS</th>\n",
       "      <th>NUMBER OF ESTABLISHMENTS</th>\n",
       "      <th>EMPLOYMENT</th>\n",
       "      <th>YEAR</th>\n",
       "      <th>ANNUAL PAYROLL</th>\n",
       "      <th>NAME</th>\n",
       "      <th>STATE CODE</th>\n",
       "    </tr>\n",
       "  </thead>\n",
       "  <tbody>\n",
       "    <tr>\n",
       "      <th>0</th>\n",
       "      <td>Montana</td>\n",
       "      <td>23</td>\n",
       "      <td>0--4</td>\n",
       "      <td>5905</td>\n",
       "      <td>5913</td>\n",
       "      <td>26822</td>\n",
       "      <td>2008</td>\n",
       "      <td>1046694000</td>\n",
       "      <td>Construction</td>\n",
       "      <td>MT</td>\n",
       "    </tr>\n",
       "    <tr>\n",
       "      <th>1</th>\n",
       "      <td>Alabama</td>\n",
       "      <td>11</td>\n",
       "      <td>0--4</td>\n",
       "      <td>858</td>\n",
       "      <td>864</td>\n",
       "      <td>6077</td>\n",
       "      <td>2008</td>\n",
       "      <td>189340000</td>\n",
       "      <td>Agriculture, Forestry, Fishing and Hunting</td>\n",
       "      <td>AL</td>\n",
       "    </tr>\n",
       "    <tr>\n",
       "      <th>2</th>\n",
       "      <td>Alabama</td>\n",
       "      <td>21</td>\n",
       "      <td>0--4</td>\n",
       "      <td>162</td>\n",
       "      <td>169</td>\n",
       "      <td>2928</td>\n",
       "      <td>2008</td>\n",
       "      <td>149140000</td>\n",
       "      <td>Mining, Quarrying, and Oil and Gas Extraction</td>\n",
       "      <td>AL</td>\n",
       "    </tr>\n",
       "    <tr>\n",
       "      <th>3</th>\n",
       "      <td>Alabama</td>\n",
       "      <td>23</td>\n",
       "      <td>0--4</td>\n",
       "      <td>9668</td>\n",
       "      <td>9696</td>\n",
       "      <td>93263</td>\n",
       "      <td>2008</td>\n",
       "      <td>3430552000</td>\n",
       "      <td>Construction</td>\n",
       "      <td>AL</td>\n",
       "    </tr>\n",
       "    <tr>\n",
       "      <th>4</th>\n",
       "      <td>Alabama</td>\n",
       "      <td>31-33</td>\n",
       "      <td>0--4</td>\n",
       "      <td>3977</td>\n",
       "      <td>4065</td>\n",
       "      <td>94975</td>\n",
       "      <td>2008</td>\n",
       "      <td>3360886000</td>\n",
       "      <td>Manufacturing</td>\n",
       "      <td>AL</td>\n",
       "    </tr>\n",
       "  </tbody>\n",
       "</table>\n",
       "</div>"
      ],
      "text/plain": [
       "  STATE DESCRIPTION NAICS CODE ENTERPRISE EMPLOYMENT SIZE  NUMBER OF FIRMS  \\\n",
       "0           Montana         23                       0--4             5905   \n",
       "1           Alabama         11                       0--4              858   \n",
       "2           Alabama         21                       0--4              162   \n",
       "3           Alabama         23                       0--4             9668   \n",
       "4           Alabama      31-33                       0--4             3977   \n",
       "\n",
       "   NUMBER OF ESTABLISHMENTS  EMPLOYMENT  YEAR  ANNUAL PAYROLL  \\\n",
       "0                      5913       26822  2008      1046694000   \n",
       "1                       864        6077  2008       189340000   \n",
       "2                       169        2928  2008       149140000   \n",
       "3                      9696       93263  2008      3430552000   \n",
       "4                      4065       94975  2008      3360886000   \n",
       "\n",
       "                                            NAME STATE CODE  \n",
       "0                                   Construction         MT  \n",
       "1     Agriculture, Forestry, Fishing and Hunting         AL  \n",
       "2  Mining, Quarrying, and Oil and Gas Extraction         AL  \n",
       "3                                   Construction         AL  \n",
       "4                                  Manufacturing         AL  "
      ]
     },
     "execution_count": 28,
     "metadata": {},
     "output_type": "execute_result"
    }
   ],
   "source": [
    "\n",
    "business_df1 = pd.merge(business_df,naics_df,on='NAICS CODE',how='left')\n",
    "business_df1= pd.merge(business_df1,states_df,on='STATE DESCRIPTION',how='left')\n",
    "business_df1.head()\n"
   ]
  },
  {
   "cell_type": "markdown",
   "metadata": {},
   "source": [
    "#### Reorder Dataframe"
   ]
  },
  {
   "cell_type": "code",
   "execution_count": 29,
   "metadata": {},
   "outputs": [
    {
     "data": {
      "text/html": [
       "<div>\n",
       "<style scoped>\n",
       "    .dataframe tbody tr th:only-of-type {\n",
       "        vertical-align: middle;\n",
       "    }\n",
       "\n",
       "    .dataframe tbody tr th {\n",
       "        vertical-align: top;\n",
       "    }\n",
       "\n",
       "    .dataframe thead th {\n",
       "        text-align: right;\n",
       "    }\n",
       "</style>\n",
       "<table border=\"1\" class=\"dataframe\">\n",
       "  <thead>\n",
       "    <tr style=\"text-align: right;\">\n",
       "      <th></th>\n",
       "      <th>YEAR</th>\n",
       "      <th>STATE DESCRIPTION</th>\n",
       "      <th>STATE CODE</th>\n",
       "      <th>NAICS CODE</th>\n",
       "      <th>NAME</th>\n",
       "      <th>ENTERPRISE EMPLOYMENT SIZE</th>\n",
       "      <th>NUMBER OF FIRMS</th>\n",
       "      <th>NUMBER OF ESTABLISHMENTS</th>\n",
       "      <th>EMPLOYMENT</th>\n",
       "      <th>ANNUAL PAYROLL</th>\n",
       "    </tr>\n",
       "  </thead>\n",
       "  <tbody>\n",
       "    <tr>\n",
       "      <th>0</th>\n",
       "      <td>2008</td>\n",
       "      <td>Montana</td>\n",
       "      <td>MT</td>\n",
       "      <td>23</td>\n",
       "      <td>Construction</td>\n",
       "      <td>0--4</td>\n",
       "      <td>5905</td>\n",
       "      <td>5913</td>\n",
       "      <td>26822</td>\n",
       "      <td>1046694000</td>\n",
       "    </tr>\n",
       "    <tr>\n",
       "      <th>1</th>\n",
       "      <td>2008</td>\n",
       "      <td>Alabama</td>\n",
       "      <td>AL</td>\n",
       "      <td>11</td>\n",
       "      <td>Agriculture, Forestry, Fishing and Hunting</td>\n",
       "      <td>0--4</td>\n",
       "      <td>858</td>\n",
       "      <td>864</td>\n",
       "      <td>6077</td>\n",
       "      <td>189340000</td>\n",
       "    </tr>\n",
       "    <tr>\n",
       "      <th>2</th>\n",
       "      <td>2008</td>\n",
       "      <td>Alabama</td>\n",
       "      <td>AL</td>\n",
       "      <td>21</td>\n",
       "      <td>Mining, Quarrying, and Oil and Gas Extraction</td>\n",
       "      <td>0--4</td>\n",
       "      <td>162</td>\n",
       "      <td>169</td>\n",
       "      <td>2928</td>\n",
       "      <td>149140000</td>\n",
       "    </tr>\n",
       "    <tr>\n",
       "      <th>3</th>\n",
       "      <td>2008</td>\n",
       "      <td>Alabama</td>\n",
       "      <td>AL</td>\n",
       "      <td>23</td>\n",
       "      <td>Construction</td>\n",
       "      <td>0--4</td>\n",
       "      <td>9668</td>\n",
       "      <td>9696</td>\n",
       "      <td>93263</td>\n",
       "      <td>3430552000</td>\n",
       "    </tr>\n",
       "    <tr>\n",
       "      <th>4</th>\n",
       "      <td>2008</td>\n",
       "      <td>Alabama</td>\n",
       "      <td>AL</td>\n",
       "      <td>31-33</td>\n",
       "      <td>Manufacturing</td>\n",
       "      <td>0--4</td>\n",
       "      <td>3977</td>\n",
       "      <td>4065</td>\n",
       "      <td>94975</td>\n",
       "      <td>3360886000</td>\n",
       "    </tr>\n",
       "  </tbody>\n",
       "</table>\n",
       "</div>"
      ],
      "text/plain": [
       "   YEAR STATE DESCRIPTION STATE CODE NAICS CODE  \\\n",
       "0  2008           Montana         MT         23   \n",
       "1  2008           Alabama         AL         11   \n",
       "2  2008           Alabama         AL         21   \n",
       "3  2008           Alabama         AL         23   \n",
       "4  2008           Alabama         AL      31-33   \n",
       "\n",
       "                                            NAME ENTERPRISE EMPLOYMENT SIZE  \\\n",
       "0                                   Construction                       0--4   \n",
       "1     Agriculture, Forestry, Fishing and Hunting                       0--4   \n",
       "2  Mining, Quarrying, and Oil and Gas Extraction                       0--4   \n",
       "3                                   Construction                       0--4   \n",
       "4                                  Manufacturing                       0--4   \n",
       "\n",
       "   NUMBER OF FIRMS  NUMBER OF ESTABLISHMENTS  EMPLOYMENT  ANNUAL PAYROLL  \n",
       "0             5905                      5913       26822      1046694000  \n",
       "1              858                       864        6077       189340000  \n",
       "2              162                       169        2928       149140000  \n",
       "3             9668                      9696       93263      3430552000  \n",
       "4             3977                      4065       94975      3360886000  "
      ]
     },
     "execution_count": 29,
     "metadata": {},
     "output_type": "execute_result"
    }
   ],
   "source": [
    "\n",
    "business_df1 = business_df1[['YEAR','STATE DESCRIPTION', 'STATE CODE', 'NAICS CODE', 'NAME', 'ENTERPRISE EMPLOYMENT SIZE', 'NUMBER OF FIRMS', 'NUMBER OF ESTABLISHMENTS', 'EMPLOYMENT', 'ANNUAL PAYROLL']].copy()\n",
    "business_df1.head()\n"
   ]
  },
  {
   "cell_type": "markdown",
   "metadata": {},
   "source": [
    "#### Table with all relavent data to be jsonified"
   ]
  },
  {
   "cell_type": "code",
   "execution_count": 30,
   "metadata": {},
   "outputs": [
    {
     "data": {
      "text/html": [
       "<div>\n",
       "<style scoped>\n",
       "    .dataframe tbody tr th:only-of-type {\n",
       "        vertical-align: middle;\n",
       "    }\n",
       "\n",
       "    .dataframe tbody tr th {\n",
       "        vertical-align: top;\n",
       "    }\n",
       "\n",
       "    .dataframe thead th {\n",
       "        text-align: right;\n",
       "    }\n",
       "</style>\n",
       "<table border=\"1\" class=\"dataframe\">\n",
       "  <thead>\n",
       "    <tr style=\"text-align: right;\">\n",
       "      <th></th>\n",
       "      <th>YEAR</th>\n",
       "      <th>STATE_DESCRIPTION</th>\n",
       "      <th>STATE_CODE</th>\n",
       "      <th>NAICS_CODE</th>\n",
       "      <th>NAME</th>\n",
       "      <th>ENTERPRISE_EMPLOYMENT_SIZE</th>\n",
       "      <th>NUMBER_OF_FIRMS</th>\n",
       "      <th>NUMBER_OF_ESTABLISHMENTS</th>\n",
       "      <th>EMPLOYMENT</th>\n",
       "      <th>ANNUAL_PAYROLL</th>\n",
       "    </tr>\n",
       "  </thead>\n",
       "  <tbody>\n",
       "    <tr>\n",
       "      <th>0</th>\n",
       "      <td>2008</td>\n",
       "      <td>Montana</td>\n",
       "      <td>MT</td>\n",
       "      <td>23</td>\n",
       "      <td>Construction</td>\n",
       "      <td>0--4</td>\n",
       "      <td>5905</td>\n",
       "      <td>5913</td>\n",
       "      <td>26822</td>\n",
       "      <td>1046694000</td>\n",
       "    </tr>\n",
       "    <tr>\n",
       "      <th>1</th>\n",
       "      <td>2008</td>\n",
       "      <td>Alabama</td>\n",
       "      <td>AL</td>\n",
       "      <td>11</td>\n",
       "      <td>Agriculture, Forestry, Fishing and Hunting</td>\n",
       "      <td>0--4</td>\n",
       "      <td>858</td>\n",
       "      <td>864</td>\n",
       "      <td>6077</td>\n",
       "      <td>189340000</td>\n",
       "    </tr>\n",
       "    <tr>\n",
       "      <th>2</th>\n",
       "      <td>2008</td>\n",
       "      <td>Alabama</td>\n",
       "      <td>AL</td>\n",
       "      <td>21</td>\n",
       "      <td>Mining, Quarrying, and Oil and Gas Extraction</td>\n",
       "      <td>0--4</td>\n",
       "      <td>162</td>\n",
       "      <td>169</td>\n",
       "      <td>2928</td>\n",
       "      <td>149140000</td>\n",
       "    </tr>\n",
       "    <tr>\n",
       "      <th>3</th>\n",
       "      <td>2008</td>\n",
       "      <td>Alabama</td>\n",
       "      <td>AL</td>\n",
       "      <td>23</td>\n",
       "      <td>Construction</td>\n",
       "      <td>0--4</td>\n",
       "      <td>9668</td>\n",
       "      <td>9696</td>\n",
       "      <td>93263</td>\n",
       "      <td>3430552000</td>\n",
       "    </tr>\n",
       "    <tr>\n",
       "      <th>4</th>\n",
       "      <td>2008</td>\n",
       "      <td>Alabama</td>\n",
       "      <td>AL</td>\n",
       "      <td>31-33</td>\n",
       "      <td>Manufacturing</td>\n",
       "      <td>0--4</td>\n",
       "      <td>3977</td>\n",
       "      <td>4065</td>\n",
       "      <td>94975</td>\n",
       "      <td>3360886000</td>\n",
       "    </tr>\n",
       "  </tbody>\n",
       "</table>\n",
       "</div>"
      ],
      "text/plain": [
       "   YEAR STATE_DESCRIPTION STATE_CODE NAICS_CODE  \\\n",
       "0  2008           Montana         MT         23   \n",
       "1  2008           Alabama         AL         11   \n",
       "2  2008           Alabama         AL         21   \n",
       "3  2008           Alabama         AL         23   \n",
       "4  2008           Alabama         AL      31-33   \n",
       "\n",
       "                                            NAME ENTERPRISE_EMPLOYMENT_SIZE  \\\n",
       "0                                   Construction                       0--4   \n",
       "1     Agriculture, Forestry, Fishing and Hunting                       0--4   \n",
       "2  Mining, Quarrying, and Oil and Gas Extraction                       0--4   \n",
       "3                                   Construction                       0--4   \n",
       "4                                  Manufacturing                       0--4   \n",
       "\n",
       "   NUMBER_OF_FIRMS  NUMBER_OF_ESTABLISHMENTS  EMPLOYMENT  ANNUAL_PAYROLL  \n",
       "0             5905                      5913       26822      1046694000  \n",
       "1              858                       864        6077       189340000  \n",
       "2              162                       169        2928       149140000  \n",
       "3             9668                      9696       93263      3430552000  \n",
       "4             3977                      4065       94975      3360886000  "
      ]
     },
     "execution_count": 30,
     "metadata": {},
     "output_type": "execute_result"
    }
   ],
   "source": [
    "\n",
    "table_df = business_df1.rename(columns = {'STATE DESCRIPTION': 'STATE_DESCRIPTION', 'STATE CODE' : 'STATE_CODE', 'NAICS CODE' : 'NAICS_CODE' , 'ENTERPRISE EMPLOYMENT SIZE' : 'ENTERPRISE_EMPLOYMENT_SIZE', 'NUMBER OF FIRMS': 'NUMBER_OF_FIRMS', 'NUMBER OF ESTABLISHMENTS' : 'NUMBER_OF_ESTABLISHMENTS', 'ANNUAL PAYROLL' : 'ANNUAL_PAYROLL' })\n",
    "table_df.head()\n"
   ]
  },
  {
   "cell_type": "code",
<<<<<<< HEAD
   "execution_count": 31,
=======
   "execution_count": 11,
>>>>>>> 4dfdd9f67cf75a333fc2b7064c74cd2917cb3496
   "metadata": {},
   "outputs": [
    {
     "data": {
      "text/plain": [
       "array(['0--4', '20--99', '<20', 'Total', '10--19', '500+', '5--9',\n",
       "       '100--499'], dtype=object)"
      ]
     },
<<<<<<< HEAD
     "execution_count": 31,
=======
     "execution_count": 11,
>>>>>>> 4dfdd9f67cf75a333fc2b7064c74cd2917cb3496
     "metadata": {},
     "output_type": "execute_result"
    }
   ],
   "source": [
    "\n",
    "table_df['ENTERPRISE_EMPLOYMENT_SIZE'].unique()\n"
   ]
  },
  {
   "cell_type": "code",
<<<<<<< HEAD
   "execution_count": 18,
=======
   "execution_count": 12,
>>>>>>> 4dfdd9f67cf75a333fc2b7064c74cd2917cb3496
   "metadata": {},
   "outputs": [],
   "source": [
    "\n",
    "table_df['ENTERPRISE_EMPLOYMENT_SIZE'].unique()\n",
    "\n",
    "good_data = ['0--4','5--9', '10--19', '20--99','100--499','500+']\n",
    "\n",
    "bad_data = ['Total',' <20','<500' ,'<20','<5']\n",
    "\n",
    "table_df['ENTERPRISE_EMPLOYMENT_SIZE'] = table_df['ENTERPRISE_EMPLOYMENT_SIZE'].astype(str).str.strip()\n"
   ]
  },
  {
   "cell_type": "code",
<<<<<<< HEAD
   "execution_count": 19,
=======
   "execution_count": 13,
>>>>>>> 4dfdd9f67cf75a333fc2b7064c74cd2917cb3496
   "metadata": {},
   "outputs": [],
   "source": [
    "\n",
    "table_df = table_df.loc[~table_df['ENTERPRISE_EMPLOYMENT_SIZE'].isin(bad_data)]\n"
   ]
  },
  {
   "cell_type": "code",
<<<<<<< HEAD
   "execution_count": 20,
=======
   "execution_count": 14,
>>>>>>> 4dfdd9f67cf75a333fc2b7064c74cd2917cb3496
   "metadata": {},
   "outputs": [
    {
     "data": {
      "text/plain": [
       "array(['0--400', '20--99', '10--19', '500+', '5--9', '100--499', '0--4'],\n",
       "      dtype=object)"
      ]
     },
<<<<<<< HEAD
     "execution_count": 20,
=======
     "execution_count": 14,
>>>>>>> 4dfdd9f67cf75a333fc2b7064c74cd2917cb3496
     "metadata": {},
     "output_type": "execute_result"
    }
   ],
   "source": [
    "\n",
    "table_df['ENTERPRISE_EMPLOYMENT_SIZE'].unique()\n"
   ]
  },
  {
   "cell_type": "code",
   "execution_count": 15,
   "metadata": {},
   "outputs": [],
   "source": [
    "\n",
    "#Export to csv\n",
    "output_file = os.path.join(\"static\",\"data\",\"table_df.csv\")\n",
    "table_df.to_csv(output_file, index=False, header=True)\n"
   ]
  },
  {
   "cell_type": "code",
   "execution_count": null,
   "metadata": {},
   "outputs": [],
   "source": [
    "\n",
    "\n"
   ]
  },
  {
   "cell_type": "code",
   "execution_count": null,
   "metadata": {},
   "outputs": [],
   "source": []
  },
  {
   "cell_type": "code",
   "execution_count": null,
   "metadata": {},
   "outputs": [],
   "source": []
  }
 ],
 "metadata": {
  "kernelspec": {
   "display_name": "Python 3",
   "language": "python",
   "name": "python3"
  },
  "language_info": {
   "codemirror_mode": {
    "name": "ipython",
    "version": 3
   },
   "file_extension": ".py",
   "mimetype": "text/x-python",
   "name": "python",
   "nbconvert_exporter": "python",
   "pygments_lexer": "ipython3",
   "version": "3.7.6"
  }
 },
 "nbformat": 4,
 "nbformat_minor": 4
}
